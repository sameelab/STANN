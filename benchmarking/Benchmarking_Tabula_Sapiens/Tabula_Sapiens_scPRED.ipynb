{
 "cells": [
  {
   "cell_type": "code",
   "execution_count": 1,
   "metadata": {},
   "outputs": [],
   "source": [
    "#   ___                  _                \n",
    "#  / _/______ ____  ____(_)__ _______     \n",
    "# / _/ __/ _ `/ _ \\/ __/ (_-</ __/ _ \\    \n",
    "#/_//_/  \\_,_/_//_/\\__/_/___/\\__/\\___/    \n",
    "# ___ _____(_)__ ___ ____  / /_(_)       \n",
    "# / _ `/ __/ (_-</ _ `/ _ \\/ __/ /        \n",
    "# \\_, /_/ /_/___/\\_,_/_//_/\\__/_/         \n",
    "#/___/\n",
    "#\n",
    "#Samee Lab @ Baylor College Of Medicine\n",
    "#francisco.grisanticanozo@bcm.edu"
   ]
  },
  {
   "cell_type": "code",
   "execution_count": null,
   "metadata": {},
   "outputs": [],
   "source": [
    "library(\"Seurat\")\n",
    "library(\"scPred\")\n",
    "library(\"tidyverse\")\n",
    "require(\"SingleCellExperiment\")\n",
    "library(\"doParallel\")"
   ]
  },
  {
   "cell_type": "markdown",
   "metadata": {},
   "source": [
    "# Train model on training data"
   ]
  },
  {
   "cell_type": "code",
   "execution_count": 2,
   "metadata": {},
   "outputs": [],
   "source": [
    "adata_train <- readRDS('../Data/Tabula_Sapiens/adata_train.rds')"
   ]
  },
  {
   "cell_type": "code",
   "execution_count": null,
   "metadata": {
    "scrolled": true
   },
   "outputs": [],
   "source": [
    "adata_train <- adata_train  %>% FindVariableFeatures() %>% ScaleData() %>% RunPCA() "
   ]
  },
  {
   "cell_type": "code",
   "execution_count": 4,
   "metadata": {},
   "outputs": [
    {
     "name": "stdout",
     "output_type": "stream",
     "text": [
      "\u001b[32m●  Extracting feature space for each cell type...\n",
      "\u001b[39m\u001b[32mDONE!\n",
      "\u001b[39m"
     ]
    }
   ],
   "source": [
    "adata_train <- getFeatureSpace(adata_train, \"celltype\")"
   ]
  },
  {
   "cell_type": "code",
   "execution_count": 5,
   "metadata": {},
   "outputs": [
    {
     "name": "stdout",
     "output_type": "stream",
     "text": [
      "\u001b[32m●  Training models for each cell type...\n",
      "\u001b[39m\u001b[32mDONE!\n",
      "\u001b[39m"
     ]
    }
   ],
   "source": [
    "cl <- makePSOCKcluster(20)\n",
    "registerDoParallel(cl)\n",
    "adata_train <- trainModel(adata_train, seed = 123,allowParallel = TRUE)\n",
    "stopCluster(cl)"
   ]
  },
  {
   "cell_type": "code",
   "execution_count": 6,
   "metadata": {},
   "outputs": [
    {
     "data": {
      "text/plain": [
       "\u001b[1m'scPred' object\n",
       "\u001b[22m\u001b[32m✔\u001b[39m \u001b[32m Prediction variable = \u001b[39m\u001b[4mcelltype\u001b[24m \u001b[4m\n",
       "\u001b[24m\u001b[32m✔\u001b[39m \u001b[32m Discriminant features per cell type\n",
       "\u001b[39m\u001b[32m✔\u001b[39m \u001b[32m Training model(s)\n",
       "\u001b[39m\u001b[34mSummary\n",
       "\n",
       "\u001b[39m|Cell type              |    n| Features|Method    |   ROC|  Sens|  Spec|\n",
       "|:----------------------|----:|--------:|:---------|-----:|-----:|-----:|\n",
       "|basal cell             | 2139|       50|svmRadial | 0.986| 0.899| 0.975|\n",
       "|classical monocyte     | 1109|       50|svmRadial | 0.849| 0.313| 0.995|\n",
       "|club cell              |  992|       50|svmRadial | 0.921| 0.467| 0.990|\n",
       "|macrophage             | 3600|       50|svmRadial | 0.941| 0.794| 0.903|\n",
       "|non-classical monocyte |  848|       50|svmRadial | 0.760| 0.116| 0.996|\n",
       "|type ii pneumocyte     | 4144|       50|svmRadial | 0.950| 0.808| 0.953|"
      ]
     },
     "metadata": {},
     "output_type": "display_data"
    }
   ],
   "source": [
    "get_scpred(adata_train)"
   ]
  },
  {
   "cell_type": "markdown",
   "metadata": {},
   "source": [
    "# Classify on predict data"
   ]
  },
  {
   "cell_type": "code",
   "execution_count": 7,
   "metadata": {},
   "outputs": [],
   "source": [
    "adata_predict <- readRDS('../Data/Tabula_Sapiens/adata_predict.rds')"
   ]
  },
  {
   "cell_type": "code",
   "execution_count": null,
   "metadata": {},
   "outputs": [],
   "source": [
    "adata_predict <- adata_predict %>% FindVariableFeatures() %>% ScaleData() %>% RunPCA() "
   ]
  },
  {
   "cell_type": "code",
   "execution_count": 9,
   "metadata": {},
   "outputs": [
    {
     "name": "stdout",
     "output_type": "stream",
     "text": [
      "\u001b[32m●  Matching reference with new dataset...\n",
      "\u001b[39m\u001b[36m\t ─ 2000 features present in reference loadings\n",
      "\u001b[39m\u001b[36m\t ─ 2000 features shared between reference and new dataset\n",
      "\u001b[39m\u001b[36m\t ─ 100% of features in the reference are present in new dataset\n",
      "\u001b[39m\u001b[32m●  Aligning new data to reference...\n",
      "\u001b[39m"
     ]
    },
    {
     "name": "stderr",
     "output_type": "stream",
     "text": [
      "Harmony 1/20\n",
      "\n",
      "Harmony 2/20\n",
      "\n",
      "Harmony 3/20\n",
      "\n",
      "Harmony 4/20\n",
      "\n",
      "Harmony 5/20\n",
      "\n",
      "Harmony 6/20\n",
      "\n",
      "Harmony 7/20\n",
      "\n",
      "Harmony 8/20\n",
      "\n",
      "Harmony 9/20\n",
      "\n",
      "Harmony 10/20\n",
      "\n",
      "Harmony 11/20\n",
      "\n",
      "Harmony 12/20\n",
      "\n",
      "Harmony 13/20\n",
      "\n",
      "Harmony 14/20\n",
      "\n",
      "Harmony converged after 14 iterations\n",
      "\n"
     ]
    },
    {
     "name": "stdout",
     "output_type": "stream",
     "text": [
      "\u001b[32m●  Classifying cells...\n",
      "\u001b[39m\u001b[32mDONE!\n",
      "\u001b[39m"
     ]
    }
   ],
   "source": [
    "adata_predict <- scPredict(adata_predict, adata_train)"
   ]
  },
  {
   "cell_type": "code",
   "execution_count": 16,
   "metadata": {},
   "outputs": [],
   "source": [
    "write.csv(adata_predict@meta.data,'../outputs/Tabula_Sapiens_predictions_scPRED.csv')"
   ]
  },
  {
   "cell_type": "code",
   "execution_count": null,
   "metadata": {},
   "outputs": [],
   "source": []
  }
 ],
 "metadata": {
  "kernelspec": {
   "display_name": "R [conda env:.conda-seurat_v3]",
   "language": "R",
   "name": "conda-env-.conda-seurat_v3-r"
  },
  "language_info": {
   "codemirror_mode": "r",
   "file_extension": ".r",
   "mimetype": "text/x-r-source",
   "name": "R",
   "pygments_lexer": "r",
   "version": "4.0.2"
  }
 },
 "nbformat": 4,
 "nbformat_minor": 4
}
