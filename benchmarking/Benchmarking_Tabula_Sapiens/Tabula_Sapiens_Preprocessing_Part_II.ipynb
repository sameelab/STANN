{
 "cells": [
  {
   "cell_type": "code",
   "execution_count": 1,
   "metadata": {},
   "outputs": [],
   "source": [
    "#   ___                  _                \n",
    "#  / _/______ ____  ____(_)__ _______     \n",
    "# / _/ __/ _ `/ _ \\/ __/ (_-</ __/ _ \\    \n",
    "#/_//_/  \\_,_/_//_/\\__/_/___/\\__/\\___/    \n",
    "# ___ _____(_)__ ___ ____  / /_(_)       \n",
    "# / _ `/ __/ (_-</ _ `/ _ \\/ __/ /        \n",
    "# \\_, /_/ /_/___/\\_,_/_//_/\\__/_/         \n",
    "#/___/\n",
    "#\n",
    "#Samee Lab @ Baylor College Of Medicine\n",
    "#francisco.grisanticanozo@bcm.edu"
   ]
  },
  {
   "cell_type": "code",
   "execution_count": 8,
   "metadata": {},
   "outputs": [],
   "source": [
    "library(Seurat)\n",
    "library(dplyr)\n",
    "library(Matrix)\n",
    "library(SeuratDisk)\n",
    "options(stringsAsFactors = FALSE)\n",
    "future::plan(\"multiprocess\", workers = 20) # do parallel"
   ]
  },
  {
   "cell_type": "markdown",
   "metadata": {},
   "source": [
    "# Transform adata train"
   ]
  },
  {
   "cell_type": "code",
   "execution_count": 9,
   "metadata": {
    "scrolled": true
   },
   "outputs": [
    {
     "name": "stderr",
     "output_type": "stream",
     "text": [
      "Warning message:\n",
      "“Unknown file type: h5ad”\n",
      "Creating h5Seurat file for version 3.1.5.9900\n",
      "\n",
      "Adding X as scale.data\n",
      "\n",
      "Adding X as data\n",
      "\n",
      "Adding X as counts\n",
      "\n",
      "Adding meta.features from var\n",
      "\n",
      "Adding X_umap as cell embeddings for umap\n",
      "\n",
      "Adding miscellaneous information for umap\n",
      "\n",
      "Adding Annotation_colors to miscellaneous data\n",
      "\n",
      "Adding Compartment_colors to miscellaneous data\n",
      "\n",
      "Adding Donor_colors to miscellaneous data\n",
      "\n",
      "Adding Manually Annotated_colors to miscellaneous data\n",
      "\n",
      "Adding Method_colors to miscellaneous data\n",
      "\n",
      "Adding Organ_colors to miscellaneous data\n",
      "\n",
      "Adding Propagated.Annotationcollapsed_colors to miscellaneous data\n",
      "\n",
      "Adding _scvi to miscellaneous data\n",
      "\n",
      "Adding donor_colors to miscellaneous data\n",
      "\n",
      "Adding hvg to miscellaneous data\n",
      "\n",
      "Adding leiden to miscellaneous data\n",
      "\n",
      "Adding method_colors to miscellaneous data\n",
      "\n",
      "Adding tissue_colors to miscellaneous data\n",
      "\n"
     ]
    }
   ],
   "source": [
    "Convert(\n",
    "  '../Data/Tabula_Sapiens/adata_train.h5ad',\n",
    "  dest = \"h5seurat\",\n",
    "  assay = \"RNA\",\n",
    "  overwrite = TRUE,\n",
    "  verbose = TRUE\n",
    ")"
   ]
  },
  {
   "cell_type": "code",
   "execution_count": 3,
   "metadata": {},
   "outputs": [
    {
     "name": "stderr",
     "output_type": "stream",
     "text": [
      "Validating h5Seurat file\n",
      "\n",
      "Initializing RNA with data\n",
      "\n",
      "Adding counts for RNA\n",
      "\n",
      "Adding feature-level metadata for RNA\n",
      "\n",
      "Adding reduction umap\n",
      "\n",
      "Adding cell embeddings for umap\n",
      "\n",
      "Adding miscellaneous information for umap\n",
      "\n",
      "Adding command information\n",
      "\n",
      "Adding cell-level metadata\n",
      "\n",
      "Adding miscellaneous information\n",
      "\n",
      "Adding tool-specific results\n",
      "\n"
     ]
    }
   ],
   "source": [
    "object <- LoadH5Seurat('../Data/Tabula_Sapiens/adata_train.h5seurat')"
   ]
  },
  {
   "cell_type": "code",
   "execution_count": 4,
   "metadata": {},
   "outputs": [],
   "source": [
    "saveRDS(object, file = '../Data/Tabula_Sapiens/adata_train.rds')"
   ]
  },
  {
   "cell_type": "markdown",
   "metadata": {},
   "source": [
    "# Transform adata predict"
   ]
  },
  {
   "cell_type": "code",
   "execution_count": 10,
   "metadata": {
    "scrolled": true
   },
   "outputs": [
    {
     "name": "stderr",
     "output_type": "stream",
     "text": [
      "Warning message:\n",
      "“Unknown file type: h5ad”\n",
      "Creating h5Seurat file for version 3.1.5.9900\n",
      "\n",
      "Adding X as scale.data\n",
      "\n",
      "Adding X as data\n",
      "\n",
      "Adding X as counts\n",
      "\n",
      "Adding meta.features from var\n",
      "\n",
      "Adding X_umap as cell embeddings for umap\n",
      "\n",
      "Adding miscellaneous information for umap\n",
      "\n",
      "Adding Annotation_colors to miscellaneous data\n",
      "\n",
      "Adding Compartment_colors to miscellaneous data\n",
      "\n",
      "Adding Donor_colors to miscellaneous data\n",
      "\n",
      "Adding Manually Annotated_colors to miscellaneous data\n",
      "\n",
      "Adding Method_colors to miscellaneous data\n",
      "\n",
      "Adding Organ_colors to miscellaneous data\n",
      "\n",
      "Adding Propagated.Annotationcollapsed_colors to miscellaneous data\n",
      "\n",
      "Adding _scvi to miscellaneous data\n",
      "\n",
      "Adding donor_colors to miscellaneous data\n",
      "\n",
      "Adding hvg to miscellaneous data\n",
      "\n",
      "Adding leiden to miscellaneous data\n",
      "\n",
      "Adding method_colors to miscellaneous data\n",
      "\n",
      "Adding tissue_colors to miscellaneous data\n",
      "\n"
     ]
    }
   ],
   "source": [
    "Convert(\n",
    "  '../Data/Tabula_Sapiens/adata_predict.h5ad',\n",
    "  dest = \"h5seurat\",\n",
    "  assay = \"RNA\",\n",
    "  overwrite = TRUE,\n",
    "  verbose = TRUE\n",
    ")"
   ]
  },
  {
   "cell_type": "code",
   "execution_count": 6,
   "metadata": {},
   "outputs": [
    {
     "name": "stderr",
     "output_type": "stream",
     "text": [
      "Validating h5Seurat file\n",
      "\n",
      "Initializing RNA with data\n",
      "\n",
      "Adding counts for RNA\n",
      "\n",
      "Adding feature-level metadata for RNA\n",
      "\n",
      "Adding reduction umap\n",
      "\n",
      "Adding cell embeddings for umap\n",
      "\n",
      "Adding miscellaneous information for umap\n",
      "\n",
      "Adding command information\n",
      "\n",
      "Adding cell-level metadata\n",
      "\n",
      "Adding miscellaneous information\n",
      "\n",
      "Adding tool-specific results\n",
      "\n"
     ]
    }
   ],
   "source": [
    "object <- LoadH5Seurat('../Data/Tabula_Sapiens/adata_predict.h5seurat')"
   ]
  },
  {
   "cell_type": "code",
   "execution_count": 7,
   "metadata": {},
   "outputs": [],
   "source": [
    "saveRDS(object, file = '../Data/Tabula_Sapiens/adata_predict.rds')"
   ]
  },
  {
   "cell_type": "code",
   "execution_count": null,
   "metadata": {},
   "outputs": [],
   "source": []
  },
  {
   "cell_type": "code",
   "execution_count": null,
   "metadata": {},
   "outputs": [],
   "source": []
  },
  {
   "cell_type": "code",
   "execution_count": null,
   "metadata": {},
   "outputs": [],
   "source": []
  },
  {
   "cell_type": "code",
   "execution_count": null,
   "metadata": {},
   "outputs": [],
   "source": []
  }
 ],
 "metadata": {
  "kernelspec": {
   "display_name": "R [conda env:.conda-seurat_v3]",
   "language": "R",
   "name": "conda-env-.conda-seurat_v3-r"
  },
  "language_info": {
   "codemirror_mode": "r",
   "file_extension": ".r",
   "mimetype": "text/x-r-source",
   "name": "R",
   "pygments_lexer": "r",
   "version": "4.0.2"
  }
 },
 "nbformat": 4,
 "nbformat_minor": 4
}
