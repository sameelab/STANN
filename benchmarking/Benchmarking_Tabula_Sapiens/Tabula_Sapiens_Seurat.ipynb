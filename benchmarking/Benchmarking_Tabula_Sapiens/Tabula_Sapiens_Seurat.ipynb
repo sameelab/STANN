{
 "cells": [
  {
   "cell_type": "code",
   "execution_count": 1,
   "metadata": {},
   "outputs": [],
   "source": [
    "#   ___                  _                \n",
    "#  / _/______ ____  ____(_)__ _______     \n",
    "# / _/ __/ _ `/ _ \\/ __/ (_-</ __/ _ \\    \n",
    "#/_//_/  \\_,_/_//_/\\__/_/___/\\__/\\___/    \n",
    "# ___ _____(_)__ ___ ____  / /_(_)       \n",
    "# / _ `/ __/ (_-</ _ `/ _ \\/ __/ /        \n",
    "# \\_, /_/ /_/___/\\_,_/_//_/\\__/_/         \n",
    "#/___/\n",
    "#\n",
    "#Samee Lab @ Baylor College Of Medicine\n",
    "#francisco.grisanticanozo@bcm.edu"
   ]
  },
  {
   "cell_type": "code",
   "execution_count": 9,
   "metadata": {
    "scrolled": true
   },
   "outputs": [
    {
     "name": "stderr",
     "output_type": "stream",
     "text": [
      "\n",
      "Attaching package: ‘future’\n",
      "\n",
      "\n",
      "The following object is masked from ‘package:SummarizedExperiment’:\n",
      "\n",
      "    values\n",
      "\n",
      "\n",
      "The following object is masked from ‘package:GenomicRanges’:\n",
      "\n",
      "    values\n",
      "\n",
      "\n",
      "The following object is masked from ‘package:IRanges’:\n",
      "\n",
      "    values\n",
      "\n",
      "\n",
      "The following object is masked from ‘package:S4Vectors’:\n",
      "\n",
      "    values\n",
      "\n",
      "\n"
     ]
    }
   ],
   "source": [
    "library(\"Seurat\")\n",
    "library(\"scPred\")\n",
    "library(\"tidyverse\")\n",
    "require(\"SingleCellExperiment\")\n",
    "library(\"doParallel\")\n",
    "\n",
    "\n",
    "# set up future for parallelization\n",
    "library(future)\n",
    "library(future.apply)\n",
    "plan(\"multiprocess\", workers = 10)\n",
    "options(future.globals.maxSize = 20000 * 1024^2)"
   ]
  },
  {
   "cell_type": "markdown",
   "metadata": {},
   "source": [
    "# Load data"
   ]
  },
  {
   "cell_type": "code",
   "execution_count": 8,
   "metadata": {},
   "outputs": [],
   "source": [
    "adata_train <- readRDS('../Data/Tabula_Sapiens/adata_train.rds')\n",
    "adata_predict <- readRDS('../Data/Tabula_Sapiens/adata_predict.rds')"
   ]
  },
  {
   "cell_type": "code",
   "execution_count": 11,
   "metadata": {
    "scrolled": true
   },
   "outputs": [
    {
     "name": "stderr",
     "output_type": "stream",
     "text": [
      "Centering and scaling data matrix\n",
      "\n",
      "PC_ 1 \n",
      "Positive:  SERPINB4, CALML3, CHP2, PAX9, H19, SERPINB11, DSC3, AC025154.2, TNNT3, LINC01133 \n",
      "\t   SLC16A9, SMIM31, ERN2, NTN1, KRT4, EYA1, CKMT1A, SCARA3, GJB5, EYA4 \n",
      "\t   ALDH1L1, LY6D, DMRT3, SOX21-AS1, NCS1, WNK2, MDFI, RARB, GBP6, FRMD6 \n",
      "Negative:  CD38, RORB, AMPH, FGL1, LINC01736, FHOD1, STC1, FAM19A5, DPY19L1, SLC6A3 \n",
      "\t   ADAMTS7P4, AC002059.1, KRT16P2, CSGALNACT1, AL138900.2, AL160408.1, SCIN, SLC4A7, AC243829.1, CST2 \n",
      "\t   TIMP4, FRG1FP, NECTIN3, AC007687.1, AC078850.1, FTLP17, DRGX, MTAPP2, NTSR1, MYT1 \n",
      "PC_ 2 \n",
      "Positive:  CALML3, CHP2, SERPINB4, SLC16A9, SERPINB11, ERN2, H19, SOX21-AS1, VAV3, LY6D \n",
      "\t   AC025154.2, CKMT1A, GBP6, WNK2, TNNT3, AC084816.1, SMIM31, AMPH, TENM4, LINC01736 \n",
      "\t   EYA4, DMRT3, SLC4A7, TMPRSS11D, B4GALNT2, HSD11B2, LINC01133, CSGALNACT1, HLA-V, TIMP4 \n",
      "Negative:  ATOH8, DLL1, SMOC2, SOX9, COL17A1, PTPRR, NCS1, IFT81, PPP1R13B, HMCN1 \n",
      "\t   FBXO17, MIXL1, RORC, ST6GAL2, KL, FKBP1B, SMO, RNF165, NECTIN3, SCARA3 \n",
      "\t   GHR, NFATC4, KIRREL1, COL16A1, SLC37A3, NELL2, DUOX2, EFNB3, CNTN6, AC027277.1 \n",
      "PC_ 3 \n",
      "Positive:  DLL1, NCS1, COL17A1, VAV3, PTPRR, RNF165, SLC4A7, DSC3, SCARA3, ST6GAL2 \n",
      "\t   HTR1F, FBXO17, AMPH, SMOC2, LINC01736, HLA-V, SMO, GHR, CCDC3, FRMD6 \n",
      "\t   LGR6, KL, NELL2, BICD1, COL16A1, PLCD3, MMP13, CSGALNACT1, PARD6G, CERNA2 \n",
      "Negative:  SCIN, RORB, AC027117.2, FGL1, STC1, NECTIN3, DPY19L1, FAM19A5, PPP1R13B, KRT16P2 \n",
      "\t   RGS7BP, SLC2A12, SLC6A3, KRT16P3, FKBP1B, KLHDC9, RORC, AL138900.2, BCL2L15, CHP2 \n",
      "\t   SLC37A3, CD38, TMEM267, RIMKLA, ADAMTS7P4, CALML3, AL160408.1, DUOX2, SLC16A9, AC007687.1 \n",
      "PC_ 4 \n",
      "Positive:  CCDC3, LGR6, KCNJ16, FGF18, NCS1, DSC3, CTSV, ST6GAL2, MDFI, SLC6A15 \n",
      "\t   KRT16P2, EYA4, SCIN, COL17A1, DMRT3, FGL1, HEY2, STARD13-AS, RNF165, RORB \n",
      "\t   LINC01133, CDH7, PAX9, TENM2, STC1, FAM19A5, DPY19L1, RF00019-331, AC147651.3, AL121584.1 \n",
      "Negative:  HMCN1, AC027277.1, NEGR1, PTPRR, POU2AF1, ATOH8, CYP2G1P, EFNB3, NFATC4, KL \n",
      "\t   PPP1R13B, ERN2, SMIM31, RORC, DCLK1, GDF7, CDON, STOX1, CHP2, KRT4 \n",
      "\t   CNKSR2, HTR1F, IFT81, CYP27C1, H19, AC025154.2, WASF3, PSORS1C3, ZBED5, NTN1 \n",
      "PC_ 5 \n",
      "Positive:  STARD13-AS, AL121584.1, RF00019-331, AC015922.2, AC004594.1, VIPR1-AS1, HMCN1, AC073651.1, PTCSC3, SNORD13E \n",
      "\t   RNU6-190P, CSGALNACT1, CDC23, FTLP17, MEIS3P1, TMEM69, FAM86FP, NEGR1, CNTN6, WDR59 \n",
      "\t   AL162408.1, AC015914.1, RNU6-450P, SLC37A3, MCCC1-AS1, ST6GALNAC5, AC093162.1, AC002059.1, MIR302CHG, AC010680.1 \n",
      "Negative:  RORB, SCIN, SOX9, SLC2A12, DSC3, STC1, RGS7BP, DPY19L1, SLC6A3, FGL1 \n",
      "\t   COL17A1, LINC01133, NAP1L2, MDFI, FAM19A5, IRS1, FRMD6, RNF165, ADAMTS7P4, NCS1 \n",
      "\t   NECTIN3, AL450306.1, AL160408.1, FGF18, AP002800.1, KIRREL1, GHR, FBXO17, DUOX2, WASF3 \n",
      "\n"
     ]
    }
   ],
   "source": [
    "adata_train <- adata_train  %>% FindVariableFeatures() %>% ScaleData() %>% RunPCA() "
   ]
  },
  {
   "cell_type": "code",
   "execution_count": 12,
   "metadata": {
    "scrolled": true
   },
   "outputs": [
    {
     "name": "stderr",
     "output_type": "stream",
     "text": [
      "Centering and scaling data matrix\n",
      "\n",
      "PC_ 1 \n",
      "Positive:  MUC5B, FAM155A-IT1, CTSK, LINC02608, MIR3188, MMP12, DDX43, ANO3, HABP2, UCN3 \n",
      "\t   RPL7P54, AL159152.1, RPL23AP2, SLC7A11-AS1, FRG1JP, FTH1P2, AC004233.2, XAGE3, EGFLAM, HSPA7 \n",
      "\t   TMEM155, LGALS7, B4GALT3, GAPDHP66, CSMD2, ZAR1, MIR9-3HG, RN7SKP137, SNORD3C, AC025884.1 \n",
      "Negative:  IL1A, AC022509.2, KRT79, PNPLA3, WFIKKN2, AL136097.2, CES1P1, AC067752.1, SHKBP1, PCARE \n",
      "\t   DUSP27, GMPR, AL772337.2, AC022509.4, IDNK, GAPDHP14, AC091305.1, OR10AA1P, AP000688.2, CEACAM8 \n",
      "\t   LINC02201, GBP7, WNK4, EEF1AKNMT, A4GNT, INHBA-AS1, GMPPA, PI4KAP1, FAM9B, MBD1 \n",
      "PC_ 2 \n",
      "Positive:  MUC5B, IL1A, B4GALT3, AC012653.2, CEACAM8, PCARE, AC091305.1, MTCO2P22, AL772337.2, DUSP27 \n",
      "\t   FAM155A-IT1, KRT79, LINC00656, OPRK1, MBD1, AC022509.2, WNK4, INHBA-AS1, PNPLA3, AC022509.4 \n",
      "\t   TMPRSS11E, LINC02608, RN7SL795P, MIR3188, CES1P1, AP000688.2, CTRC, PI4KAP1, HABP2, AC246817.2 \n",
      "Negative:  CTSK, AC096537.1, MANSC4, MMP12, GMPR, TM4SF19-TCTEX1D2, NMRK2, AL355615.1, IDNK, AC093802.1 \n",
      "\t   RPL23AP87, RHCG, AL136526.1, CAMK1G, AL356417.1, FTH1P2, ITGB3, SHKBP1, RPL17P1, AP000569.1 \n",
      "\t   BX470209.2, AC105105.1, ADRA2B, SNORD3C, LHCGR, ATP2B2, ITPKB-AS1, FAM9B, HHIPL1, AC022240.1 \n",
      "PC_ 3 \n",
      "Positive:  SHKBP1, GBP7, PCARE, GMPR, AC091305.1, IDNK, OPRK1, RPL13AP6, AL772337.2, A4GNT \n",
      "\t   INHBA-AS1, EEF1AKNMT, LINC00656, CES1P1, RN7SL795P, BEGAIN, DUSP27, GMPPA, TMPRSS11E, FGF10-AS1 \n",
      "\t   MBD1, AC012653.2, TSGA10IP, MMP12, GSTO3P, TREML2, IL1A, TRGV6, RPL36AP39, SIRPAP1 \n",
      "Negative:  AL136097.2, WFIKKN2, MUC5B, OR10AA1P, B4GALT3, AC096537.1, AC022509.2, LINC02201, AC022509.4, PI4KAP1 \n",
      "\t   GAPDHP14, AC067752.1, KRT79, AP000688.2, FAM155A-IT1, WNK4, LINC02608, AL355615.1, RPL23AP87, GJB6 \n",
      "\t   SLC4A9, ADRA2B, NPM1P6, MIR3188, CEACAM8, FTH1P2, TMEM114, LINC01095, IL37, ANO3 \n",
      "PC_ 4 \n",
      "Positive:  AC012653.2, CEACAM8, AC022509.4, FAM9B, AC091305.1, PCARE, AC022509.2, AC067752.1, B4GALT3, IDNK \n",
      "\t   KRT79, INHBA-AS1, MUC5B, MANSC4, CTSK, RN7SL795P, AL772337.2, OPRK1, TMPRSS11E, WNK4 \n",
      "\t   LINC02201, AP000569.1, GAPDHP14, FGF10-AS1, AC084871.4, DUSP27, OR52K1, LINC02608, MBD1, EQTN \n",
      "Negative:  CES1P1, PI4KAP1, OR10AA1P, PNPLA3, WFIKKN2, SHKBP1, RPL23AP87, MTCO2P22, RPL13AP6, GMPR \n",
      "\t   AP000688.2, FTH1P2, FP565260.3, IL1A, GBP7, CCDC194, AC015871.5, AL954705.1, EEF1AKNMT, BEGAIN \n",
      "\t   AC023983.2, AC010894.3, AC066616.1, CRIP3, AC104772.1, KF459542.1, AL158817.1, GP6, HASPIN, AC020922.2 \n",
      "PC_ 5 \n",
      "Positive:  LINC00656, MTCO2P22, IL1A, PI4KAP1, AL772337.2, RN7SL795P, MUC5B, AC091305.1, B4GALT3, FTH1P2 \n",
      "\t   PNPLA3, FAM9B, DUSP27, EEF1AKNMT, WFIKKN2, OR52K1, OPRK1, INHBA-AS1, CEACAM8, MIR3188 \n",
      "\t   WNK4, AC012653.2, RPL23AP2, MBD1, CES1P1, RPL7P54, AP000569.1, FAM155A-IT1, EIF4BP6, AL136097.2 \n",
      "Negative:  LINC02201, SHKBP1, AC022509.4, AC022509.2, AC067752.1, OR10AA1P, AP000688.2, RPL23AP87, GAPDHP14, GMPPA \n",
      "\t   KRT79, AC096537.1, IDNK, AC084871.4, RPL13AP6, GMPR, RN7SL652P, AC005786.3, KLHL31, Z98043.1 \n",
      "\t   MMP12, MMP8, RPL12P1, MRPL35P2, AC002454.1, LINC00337, AC013476.2, HTR1F, SEZ6L, BPI \n",
      "\n"
     ]
    }
   ],
   "source": [
    "adata_predict <- adata_predict %>% FindVariableFeatures() %>% ScaleData() %>% RunPCA() "
   ]
  },
  {
   "cell_type": "markdown",
   "metadata": {},
   "source": [
    "# Run integration pipeline"
   ]
  },
  {
   "cell_type": "code",
   "execution_count": 13,
   "metadata": {},
   "outputs": [
    {
     "name": "stderr",
     "output_type": "stream",
     "text": [
      "Performing PCA on the provided reference using 2000 features as input.\n",
      "\n",
      "Projecting PCA\n",
      "\n",
      "Finding neighborhoods\n",
      "\n",
      "Finding anchors\n",
      "\n",
      "\tFound 8768 anchors\n",
      "\n",
      "Filtering anchors\n",
      "\n",
      "\tRetained 6700 anchors\n",
      "\n"
     ]
    }
   ],
   "source": [
    "anchors <- FindTransferAnchors(reference = adata_train, \n",
    "                               query = adata_predict, \n",
    "                               dims = 1:30)"
   ]
  },
  {
   "cell_type": "code",
   "execution_count": 14,
   "metadata": {},
   "outputs": [
    {
     "name": "stderr",
     "output_type": "stream",
     "text": [
      "Finding integration vectors\n",
      "\n",
      "Finding integration vector weights\n",
      "\n",
      "Predicting cell labels\n",
      "\n"
     ]
    }
   ],
   "source": [
    "predictions <- TransferData(anchorset = anchors, \n",
    "                            refdata = adata_train$celltype,\n",
    "                            dims = 1:30)"
   ]
  },
  {
   "cell_type": "code",
   "execution_count": 15,
   "metadata": {},
   "outputs": [],
   "source": [
    "adata_predict <- AddMetaData(adata_predict, metadata = predictions)"
   ]
  },
  {
   "cell_type": "markdown",
   "metadata": {},
   "source": [
    "# Save results"
   ]
  },
  {
   "cell_type": "code",
   "execution_count": 17,
   "metadata": {},
   "outputs": [],
   "source": [
    "write.csv(adata_predict@meta.data,'../outputs/Tabula_Sapiens_predictions_Seurat.csv')"
   ]
  }
 ],
 "metadata": {
  "kernelspec": {
   "display_name": "R [conda env:.conda-seurat_v3]",
   "language": "R",
   "name": "conda-env-.conda-seurat_v3-r"
  },
  "language_info": {
   "codemirror_mode": "r",
   "file_extension": ".r",
   "mimetype": "text/x-r-source",
   "name": "R",
   "pygments_lexer": "r",
   "version": "4.0.2"
  }
 },
 "nbformat": 4,
 "nbformat_minor": 4
}
