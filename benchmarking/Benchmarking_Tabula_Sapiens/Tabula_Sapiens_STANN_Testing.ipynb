{
 "cells": [
  {
   "cell_type": "code",
   "execution_count": 1,
   "metadata": {},
   "outputs": [],
   "source": [
    "#\n",
    "#   ___                  _                \n",
    "#  / _/______ ____  ____(_)__ _______     \n",
    "# / _/ __/ _ `/ _ \\/ __/ (_-</ __/ _ \\    \n",
    "#/_//_/  \\_,_/_//_/\\__/_/___/\\__/\\___/    \n",
    "# ___ _____(_)__ ___ ____  / /_(_)       \n",
    "# / _ `/ __/ (_-</ _ `/ _ \\/ __/ /        \n",
    "# \\_, /_/ /_/___/\\_,_/_//_/\\__/_/         \n",
    "#/___/\n",
    "#\n",
    "#Samee Lab @ Baylor College Of Medicine\n",
    "#francisco.grisanticanozo@bcm.edu"
   ]
  },
  {
   "cell_type": "code",
   "execution_count": 55,
   "metadata": {
    "tags": []
   },
   "outputs": [
    {
     "name": "stdout",
     "output_type": "stream",
     "text": [
      "======================================== System Information ========================================\n",
      "System: Linux\n",
      "Node Name: martinlab-bobbyd\n",
      "Release: 4.15.0-142-generic\n",
      "Version: #146-Ubuntu SMP Tue Apr 13 01:11:19 UTC 2021\n",
      "Machine: x86_64\n"
     ]
    }
   ],
   "source": [
    "import psutil\n",
    "import platform\n",
    "from datetime import datetime\n",
    "\n",
    "print(\"=\"*40, \"System Information\", \"=\"*40)\n",
    "uname = platform.uname()\n",
    "print(f\"System: {uname.system}\")\n",
    "print(f\"Node Name: {uname.node}\")\n",
    "print(f\"Release: {uname.release}\")\n",
    "print(f\"Version: {uname.version}\")\n",
    "print(f\"Machine: {uname.machine}\")"
   ]
  },
  {
   "cell_type": "code",
   "execution_count": 56,
   "metadata": {
    "tags": []
   },
   "outputs": [
    {
     "name": "stdout",
     "output_type": "stream",
     "text": [
      "scanpy==1.7.2 anndata==0.7.6 umap==0.5.1 numpy==1.20.3 scipy==1.6.3 pandas==1.2.4 scikit-learn==0.24.2 statsmodels==0.12.2 python-igraph==0.9.1\n"
     ]
    }
   ],
   "source": [
    "#Load libraries\n",
    "import matplotlib.pyplot as plt\n",
    "import numpy as np\n",
    "import random\n",
    "import os\n",
    "import sys\n",
    "import pandas as pd\n",
    "import warnings\n",
    "import seaborn as sb\n",
    "import sklearn\n",
    "import tqdm\n",
    "import scanpy as sc\n",
    "import anndata\n",
    "import sklearn\n",
    "from sklearn.linear_model import LinearRegression\n",
    "from sklearn.linear_model import LogisticRegression\n",
    "from sklearn.decomposition import PCA\n",
    "from sklearn.base import RegressorMixin\n",
    "from sklearn.base import ClassifierMixin\n",
    "sc.logging.print_header()"
   ]
  },
  {
   "cell_type": "code",
   "execution_count": 57,
   "metadata": {},
   "outputs": [],
   "source": [
    "#sys.path.append('./STANN/')\n",
    "from STANN.STANN.models import STANN, BaseSupervisedPCA\n",
    "import STANN.STANN.utils as utils"
   ]
  },
  {
   "cell_type": "code",
   "execution_count": 58,
   "metadata": {
    "tags": []
   },
   "outputs": [
    {
     "name": "stdout",
     "output_type": "stream",
     "text": [
      "tensorflow==2.2.0 \n",
      "keras==2.3.0-tf\n"
     ]
    }
   ],
   "source": [
    "import tensorflow as tf\n",
    "import tensorflow.keras as keras\n",
    "print(f'tensorflow=={tf.__version__} \\nkeras=={tf.keras.__version__}')"
   ]
  },
  {
   "cell_type": "code",
   "execution_count": 59,
   "metadata": {},
   "outputs": [],
   "source": [
    "#Reproducibility\n",
    "seed = 10\n",
    "np.random.seed(seed)\n",
    "tf.random.set_seed(seed)"
   ]
  },
  {
   "cell_type": "code",
   "execution_count": 62,
   "metadata": {
    "tags": []
   },
   "outputs": [
    {
     "name": "stdout",
     "output_type": "stream",
     "text": [
      "[INFO] loading training data...\n",
      "[INFO] loading predict data...\n"
     ]
    }
   ],
   "source": [
    "################LOAD DATA###################\n",
    "\n",
    "# check to see which data\n",
    "print(\"[INFO] loading training data...\")\n",
    "adata_train = sc.read_h5ad(\"../Data/Tabula_Sapiens/adata_train.h5ad\")\n",
    "\n",
    "print(\"[INFO] loading predict data...\")\n",
    "adata_predict = sc.read_h5ad(\"../Data/Tabula_Sapiens/adata_predict.h5ad\")"
   ]
  },
  {
   "cell_type": "code",
   "execution_count": 64,
   "metadata": {},
   "outputs": [
    {
     "name": "stderr",
     "output_type": "stream",
     "text": [
      "/home/franciscog/.conda/envs/STANN/lib/python3.8/site-packages/sklearn/utils/validation.py:63: DataConversionWarning: A column-vector y was passed when a 1d array was expected. Please change the shape of y to (n_samples, ), for example using ravel().\n",
      "  return f(*args, **kwargs)\n"
     ]
    },
    {
     "name": "stdout",
     "output_type": "stream",
     "text": [
      "[INFO] X_train shape=(11548, 15000)\n",
      "[INFO] y_train shape=(11548, 6)\n",
      "\n",
      "[INFO] X_test shape=(1284, 15000)\n",
      "[INFO] y_test shape=(1284, 6)\n"
     ]
    },
    {
     "name": "stderr",
     "output_type": "stream",
     "text": [
      "/home/franciscog/.conda/envs/STANN/lib/python3.8/site-packages/sklearn/utils/validation.py:70: FutureWarning: Pass classes=[0 1 2 3 4 5], y=[5 4 3 ... 4 3 0] as keyword args. From version 1.0 (renaming of 0.25) passing these as positional arguments will result in an error\n",
      "  warnings.warn(f\"Pass {args_msg} as keyword args. From version \"\n"
     ]
    }
   ],
   "source": [
    "###############TRAIN TEST SPLIT###################\n",
    "\n",
    "\n",
    "X_train, Y_train, X_predict = utils.organize_data(adata_train=adata_train,\n",
    "                                            adata_predict=adata_predict)\n",
    "\n",
    "\n",
    "X_train_scaled , scaler_train = utils.min_max(X=X_train)\n",
    "\n",
    "X_predict_scaled , scaler_predict = utils.min_max(X=X_predict)\n",
    "\n",
    "Y_train_dummy,Y_train_ohe,encoder = utils.label_encoder(Y_train=Y_train)\n",
    "\n",
    "x_train, x_test, y_train, y_test = utils.get_train_test_split(X_train_scaled,\n",
    "                                                    Y_train_ohe,\n",
    "                                                    test_size=0.10, \n",
    "                                                    random_state=40)\n",
    "\n",
    "class_weights = utils.get_class_weights(Y_train_ohe=y_train)\n",
    "class_weights = {i : class_weights[i] for i in range(len(np.unique(Y_train)))}"
   ]
  },
  {
   "cell_type": "code",
   "execution_count": 1,
   "metadata": {},
   "outputs": [
    {
     "ename": "NameError",
     "evalue": "name 'BaseSupervisedPCA' is not defined",
     "output_type": "error",
     "traceback": [
      "\u001b[0;31m---------------------------------------------------------------------------\u001b[0m",
      "\u001b[0;31mNameError\u001b[0m                                 Traceback (most recent call last)",
      "\u001b[0;32m<ipython-input-1-2d912f1c5731>\u001b[0m in \u001b[0;36m<module>\u001b[0;34m\u001b[0m\n\u001b[1;32m      3\u001b[0m \u001b[0mbspca\u001b[0m \u001b[0;34m=\u001b[0m \u001b[0;32mNone\u001b[0m\u001b[0;34m\u001b[0m\u001b[0;34m\u001b[0m\u001b[0m\n\u001b[1;32m      4\u001b[0m \u001b[0;34m\u001b[0m\u001b[0m\n\u001b[0;32m----> 5\u001b[0;31m bspca = BaseSupervisedPCA(model=LogisticRegression(multi_class=\"multinomial\",\n\u001b[0m\u001b[1;32m      6\u001b[0m                                               \u001b[0mclass_weight\u001b[0m\u001b[0;34m=\u001b[0m\u001b[0mclass_weights\u001b[0m\u001b[0;34m,\u001b[0m\u001b[0;34m\u001b[0m\u001b[0;34m\u001b[0m\u001b[0m\n\u001b[1;32m      7\u001b[0m                                               solver='lbfgs'),\n",
      "\u001b[0;31mNameError\u001b[0m: name 'BaseSupervisedPCA' is not defined"
     ]
    }
   ],
   "source": [
    "################RUN SUPERVISED PCA###################\n",
    "\n",
    "bspca = None\n",
    "\n",
    "bspca = BaseSupervisedPCA(model=LogisticRegression(multi_class=\"multinomial\",\n",
    "                                              class_weight=class_weights,\n",
    "                                              solver='lbfgs'),\n",
    "                                              n_components=50)\n",
    "\n",
    "\n",
    "_scores,_scores_balanced = bspca.rank_features(np.array(X_train),\n",
    "                                                         Y_train_dummy,\n",
    "                                                         class_weights)\n",
    "\n",
    "_scores_balanced_pd = pd.DataFrame({'index_position':np.arange(0,np.array(X_train).shape[1]),\n",
    "          '_scores': _scores_balanced})\n",
    "\n",
    "_scores_pd = pd.DataFrame({'index_position':np.arange(0,np.array(X_train).shape[1]),\n",
    "          '_scores': _scores})\n",
    "\n",
    "_scores_balanced_pd.to_csv('../Data/Tabula_Sapiens/features_scores_balanced.csv')\n",
    "\n",
    "_scores_pd.to_csv('../Data/Tabula_Sapiens/features_scores.csv')\n",
    "    \n",
    "                                                        \n",
    "X = bspca.subset_features(x_train,\n",
    "                 _scores_balanced,\n",
    "                 155)\n",
    "\n",
    "\n",
    "bspca.fit(X,np.argmax(y_train, axis=1))"
   ]
  },
  {
   "cell_type": "code",
   "execution_count": 66,
   "metadata": {},
   "outputs": [],
   "source": [
    "################GET SUPERVISED PCA TRANSFORMATIONS###################\n",
    "\n",
    "x_train_transformed = bspca.get_transformed_data(X)\n",
    "\n",
    "x_test_subset = bspca.subset_features(x_test,\n",
    "                 _scores_balanced,\n",
    "                 15000)\n",
    "\n",
    "x_test_transformed = bspca.get_transformed_data(x_test_subset)\n",
    "\n",
    "X_predict_subset = bspca.subset_features(X_predict_scaled,\n",
    "                 _scores_balanced,\n",
    "                 15000)\n",
    "\n",
    "X_predict_transformed = bspca.get_transformed_data(X_predict_subset)"
   ]
  },
  {
   "cell_type": "code",
   "execution_count": 68,
   "metadata": {},
   "outputs": [
    {
     "name": "stdout",
     "output_type": "stream",
     "text": [
      "<tensorflow.python.keras.engine.sequential.Sequential object at 0x7fbbcc6e4790>\n",
      "Epoch 1/10\n",
      "361/361 [==============================] - 44s 121ms/step - loss: 1.1578 - accuracy: 0.6583 - val_loss: 0.6232 - val_accuracy: 0.8840\n",
      "Epoch 2/10\n",
      "361/361 [==============================] - 44s 121ms/step - loss: 0.4318 - accuracy: 0.9146 - val_loss: 0.2424 - val_accuracy: 0.9416\n",
      "Epoch 3/10\n",
      "361/361 [==============================] - 43s 119ms/step - loss: 0.2170 - accuracy: 0.9571 - val_loss: 0.1380 - val_accuracy: 0.9626\n",
      "Epoch 4/10\n",
      "361/361 [==============================] - 43s 118ms/step - loss: 0.1374 - accuracy: 0.9724 - val_loss: 0.1046 - val_accuracy: 0.9704\n",
      "Epoch 5/10\n",
      "361/361 [==============================] - 43s 118ms/step - loss: 0.0995 - accuracy: 0.9797 - val_loss: 0.0867 - val_accuracy: 0.9759\n",
      "Epoch 6/10\n",
      "361/361 [==============================] - 45s 124ms/step - loss: 0.0761 - accuracy: 0.9838 - val_loss: 0.0776 - val_accuracy: 0.9766\n",
      "Epoch 7/10\n",
      "361/361 [==============================] - 44s 123ms/step - loss: 0.0607 - accuracy: 0.9869 - val_loss: 0.0733 - val_accuracy: 0.9766\n",
      "Epoch 8/10\n",
      "361/361 [==============================] - 45s 124ms/step - loss: 0.0490 - accuracy: 0.9898 - val_loss: 0.0690 - val_accuracy: 0.9774\n",
      "Epoch 9/10\n",
      "361/361 [==============================] - 44s 122ms/step - loss: 0.0403 - accuracy: 0.9920 - val_loss: 0.0671 - val_accuracy: 0.9766\n",
      "Epoch 10/10\n",
      "361/361 [==============================] - 45s 125ms/step - loss: 0.0337 - accuracy: 0.9939 - val_loss: 0.0670 - val_accuracy: 0.9766\n"
     ]
    }
   ],
   "source": [
    "################RUN STANN###################\n",
    "\n",
    "model = STANN(act_fun='relu',\n",
    "              first_dense=300,\n",
    "              second_dense=200,\n",
    "              learning_rate=0.01,\n",
    "              input_dim=x_train_transformed.shape[1],\n",
    "              output_dim=len(adata_train.obs.celltype.unique()))\n",
    "\n",
    "print(model)\n",
    "\n",
    "es = tf.keras.callbacks.EarlyStopping(monitor='accuracy', \n",
    "                                      mode='min', \n",
    "                                      verbose=1,\n",
    "                                      patience=30)\n",
    "\n",
    "history = model.fit(x_train_transformed, \n",
    "                    y_train, \n",
    "                    validation_data=(x_test_transformed, y_test),\n",
    "                    epochs=10,\n",
    "                    class_weight=class_weights,\n",
    "                    callbacks=[es],verbose=1)"
   ]
  },
  {
   "cell_type": "code",
   "execution_count": 69,
   "metadata": {},
   "outputs": [
    {
     "data": {
      "text/plain": [
       "<matplotlib.legend.Legend at 0x7fbbcc60c0a0>"
      ]
     },
     "execution_count": 69,
     "metadata": {},
     "output_type": "execute_result"
    },
    {
     "data": {
      "image/png": "[encoded data removed]",
      "text/plain": [
       "<Figure size 360x360 with 1 Axes>"
      ]
     },
     "metadata": {
      "needs_background": "light"
     },
     "output_type": "display_data"
    }
   ],
   "source": [
    "fig, axs = plt.subplots(figsize=(5,5))\n",
    "plt.plot(history.history['loss'], label='loss')\n",
    "plt.plot(history.history['val_loss'], label='val_loss')\n",
    "plt.plot(history.history['accuracy'], label='accuracy')\n",
    "plt.plot(history.history['val_accuracy'], label='val_accuracy')\n",
    "plt.title('Training metrics')\n",
    "plt.xlabel('Iterations')\n",
    "plt.legend()"
   ]
  },
  {
   "cell_type": "code",
   "execution_count": 73,
   "metadata": {},
   "outputs": [
    {
     "name": "stdout",
     "output_type": "stream",
     "text": [
      "[INFO] Accuracy -- Train: 0.995, Test: 0.977\n",
      "[INFO] ROC -- Train: 1.000, Test: 0.998\n"
     ]
    }
   ],
   "source": [
    "utils.print_metrics(model=model,\n",
    "                  x_train=x_train_transformed,\n",
    "                  y_train=y_train,\n",
    "                  x_test=x_test_transformed,\n",
    "                  y_test=y_test)\n",
    "\n",
    "\n",
    "predictions = utils.make_predictions(model=model,\n",
    "                     X_predict=X_predict_transformed,\n",
    "                     encoder=encoder,\n",
    "                     adata_predict=adata_predict,\n",
    "                     probabilities=True,\n",
    "                     save=False)"
   ]
  },
  {
   "cell_type": "markdown",
   "metadata": {},
   "source": [
    "# Test predictions metrics"
   ]
  },
  {
   "cell_type": "code",
   "execution_count": 71,
   "metadata": {},
   "outputs": [],
   "source": [
    "from sklearn.metrics import accuracy_score"
   ]
  },
  {
   "cell_type": "code",
   "execution_count": 72,
   "metadata": {},
   "outputs": [
    {
     "data": {
      "text/plain": [
       "0.9715876367824918"
      ]
     },
     "execution_count": 72,
     "metadata": {},
     "output_type": "execute_result"
    }
   ],
   "source": [
    "accuracy_score(predictions['celltype'],predictions['STANN_predictions'])"
   ]
  },
  {
   "cell_type": "code",
   "execution_count": 9,
   "metadata": {
    "tags": []
   },
   "outputs": [],
   "source": [
    "################ SAVE PREDICTIONS ###################\n",
    "\n",
    "predictions.to_csv(str(args[\"output\"])+str(args[\"project\"])+\"_predictions.csv\")\n",
    "_scores_balanced_pd.to_csv(str(args[\"output\"])+str(args[\"project\"])+'_features_scores_balanced.csv')\n",
    "_scores_pd.to_csv(str(args[\"output\"])+str(args[\"project\"])+'_features_scores.csv')\n",
    "\n",
    "################ SAVE MODEL ###################\n",
    "\n",
    "print(\"[INFO] saving .h5 model ...\")\n",
    "model.save(str(args[\"output\"])+str(args[\"project\"])+\"_model.h5\")"
   ]
  }
 ],
 "metadata": {
  "kernelspec": {
   "display_name": "Python [conda env:.conda-STANN]",
   "language": "python",
   "name": "conda-env-.conda-STANN-py"
  },
  "language_info": {
   "codemirror_mode": {
    "name": "ipython",
    "version": 3
   },
   "file_extension": ".py",
   "mimetype": "text/x-python",
   "name": "python",
   "nbconvert_exporter": "python",
   "pygments_lexer": "ipython3",
   "version": "3.8.10"
  },
  "toc": {
   "base_numbering": 1,
   "nav_menu": {},
   "number_sections": true,
   "sideBar": true,
   "skip_h1_title": false,
   "title_cell": "Table of Contents",
   "title_sidebar": "Contents",
   "toc_cell": false,
   "toc_position": {},
   "toc_section_display": true,
   "toc_window_display": false
  }
 },
 "nbformat": 4,
 "nbformat_minor": 2
}
