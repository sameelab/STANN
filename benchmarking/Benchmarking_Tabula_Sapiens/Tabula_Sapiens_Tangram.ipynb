{
 "cells": [
  {
   "cell_type": "code",
   "execution_count": 3,
   "metadata": {},
   "outputs": [],
   "source": [
    "#   ___                  _                \n",
    "#  / _/______ ____  ____(_)__ _______     \n",
    "# / _/ __/ _ `/ _ \\/ __/ (_-</ __/ _ \\    \n",
    "#/_//_/  \\_,_/_//_/\\__/_/___/\\__/\\___/    \n",
    "# ___ _____(_)__ ___ ____  / /_(_)       \n",
    "# / _ `/ __/ (_-</ _ `/ _ \\/ __/ /        \n",
    "# \\_, /_/ /_/___/\\_,_/_//_/\\__/_/         \n",
    "#/___/\n",
    "#\n",
    "#Samee Lab @ Baylor College Of Medicine\n",
    "#francisco.grisanticanozo@bcm.edu"
   ]
  },
  {
   "cell_type": "code",
   "execution_count": 4,
   "metadata": {},
   "outputs": [
    {
     "name": "stdout",
     "output_type": "stream",
     "text": [
      "==================== System Information ====================\n",
      "System: Linux\n",
      "Node Name: martinlab-bobbyd\n",
      "Release: 4.15.0-142-generic\n",
      "Version: #146-Ubuntu SMP Tue Apr 13 01:11:19 UTC 2021\n",
      "Machine: x86_64\n"
     ]
    }
   ],
   "source": [
    "import psutil\n",
    "import platform\n",
    "from datetime import datetime\n",
    "\n",
    "print(\"=\"*20, \"System Information\", \"=\"*20)\n",
    "uname = platform.uname()\n",
    "print(f\"System: {uname.system}\")\n",
    "print(f\"Node Name: {uname.node}\")\n",
    "print(f\"Release: {uname.release}\")\n",
    "print(f\"Version: {uname.version}\")\n",
    "print(f\"Machine: {uname.machine}\")"
   ]
  },
  {
   "cell_type": "code",
   "execution_count": 19,
   "metadata": {},
   "outputs": [],
   "source": [
    "#Load libraries\n",
    "import matplotlib.pyplot as plt\n",
    "import numpy as np\n",
    "import random\n",
    "import os\n",
    "import sys\n",
    "import pandas as pd\n",
    "import warnings\n",
    "import seaborn as sb\n",
    "import sklearn\n",
    "import tqdm\n",
    "import scanpy as sc\n",
    "import anndata\n",
    "import sklearn\n",
    "import tangram as tg"
   ]
  },
  {
   "cell_type": "code",
   "execution_count": 10,
   "metadata": {},
   "outputs": [],
   "source": [
    "import torch\n",
    "torch.cuda.empty_cache()\n",
    "device = torch.device(\"cpu\")"
   ]
  },
  {
   "cell_type": "markdown",
   "metadata": {},
   "source": [
    "# Run Tangram"
   ]
  },
  {
   "cell_type": "code",
   "execution_count": 40,
   "metadata": {},
   "outputs": [],
   "source": [
    "ad_sc = sc.read_h5ad('../Data/Tabula_Sapiens/adata_train.h5ad')"
   ]
  },
  {
   "cell_type": "code",
   "execution_count": 41,
   "metadata": {},
   "outputs": [],
   "source": [
    "ad_sp = sc.read_h5ad('../Data/Tabula_Sapiens/adata_predict.h5ad')\n",
    "del ad_sp.uns, ad_sp.obs, ad_sp.var, ad_sp.obsp"
   ]
  },
  {
   "cell_type": "code",
   "execution_count": 42,
   "metadata": {},
   "outputs": [
    {
     "data": {
      "text/plain": [
       "AnnData object with n_obs × n_vars = 10418 × 15000\n",
       "    obsm: 'X_umap'"
      ]
     },
     "execution_count": 42,
     "metadata": {},
     "output_type": "execute_result"
    }
   ],
   "source": [
    "ad_sp"
   ]
  },
  {
   "cell_type": "code",
   "execution_count": 30,
   "metadata": {},
   "outputs": [
    {
     "name": "stderr",
     "output_type": "stream",
     "text": [
      "INFO:root:7753 marker genes shared by AnnDatas.\n"
     ]
    }
   ],
   "source": [
    "ad_sc, ad_sp = tg.pp_adatas(ad_sc, ad_sp, genes=None)"
   ]
  },
  {
   "cell_type": "code",
   "execution_count": 31,
   "metadata": {},
   "outputs": [
    {
     "name": "stderr",
     "output_type": "stream",
     "text": [
      "INFO:root:Allocate tensors for mapping.\n",
      "INFO:root:Begin training with 7753 genes in cells mode...\n",
      "INFO:root:Printing scores every 100 epochs.\n"
     ]
    },
    {
     "name": "stdout",
     "output_type": "stream",
     "text": [
      "Score: 0.019\n",
      "Score: 0.802\n",
      "Score: 0.810\n",
      "Score: 0.812\n",
      "Score: 0.813\n"
     ]
    },
    {
     "name": "stderr",
     "output_type": "stream",
     "text": [
      "INFO:root:Saving results..\n"
     ]
    }
   ],
   "source": [
    "ad_map = tg.map_cells_to_space(ad_sc, ad_sp,device=device,num_epochs=500)"
   ]
  },
  {
   "cell_type": "code",
   "execution_count": 32,
   "metadata": {},
   "outputs": [],
   "source": [
    "ad_map.write_h5ad('../outputs/tangram_ad_map.h5ad')"
   ]
  },
  {
   "cell_type": "markdown",
   "metadata": {},
   "source": [
    "# Get Tangram results"
   ]
  },
  {
   "cell_type": "code",
   "execution_count": 104,
   "metadata": {},
   "outputs": [],
   "source": [
    "ad_sc = sc.read_h5ad('../Data/Tabula_Sapiens/adata_train.h5ad')"
   ]
  },
  {
   "cell_type": "code",
   "execution_count": 105,
   "metadata": {},
   "outputs": [],
   "source": [
    "ad_sp = sc.read_h5ad('../Data/Tabula_Sapiens/adata_predict.h5ad')"
   ]
  },
  {
   "cell_type": "code",
   "execution_count": 106,
   "metadata": {},
   "outputs": [],
   "source": [
    "ad_map = sc.read('../outputs/tangram_ad_map.h5ad')"
   ]
  },
  {
   "cell_type": "markdown",
   "metadata": {},
   "source": [
    "## By mean cell probability"
   ]
  },
  {
   "cell_type": "code",
   "execution_count": 107,
   "metadata": {},
   "outputs": [],
   "source": [
    "result = []\n",
    "\n",
    "for row in range(10418):\n",
    "    \n",
    "    #get mapping for cell\n",
    "    temp = pd.DataFrame({'celltypes':ad_sc.obs['celltype'].values,\n",
    "                     'probabilities':ad_map.X[:,row]})\n",
    "    \n",
    "    #mean probability across all celltypes\n",
    "    temp = temp.groupby('celltypes').mean()\n",
    "    \n",
    "    #extract max probability\n",
    "    \n",
    "    temp = temp.idxmax().values[0]\n",
    "    \n",
    "    result.append(temp)"
   ]
  },
  {
   "cell_type": "code",
   "execution_count": 108,
   "metadata": {},
   "outputs": [],
   "source": [
    "ad_sp.obs['Tangram_prediction_avg'] = result"
   ]
  },
  {
   "cell_type": "markdown",
   "metadata": {},
   "source": [
    "## By max cell probability"
   ]
  },
  {
   "cell_type": "code",
   "execution_count": 109,
   "metadata": {},
   "outputs": [],
   "source": [
    "result = []\n",
    "\n",
    "for row in range(10418):\n",
    "    \n",
    "    #get mapping for cell\n",
    "    temp = pd.DataFrame({'celltypes':ad_sc.obs['celltype'].values,\n",
    "                     'probabilities':ad_map.X[:,row]})\n",
    "    \n",
    "    #extract max probability\n",
    "    max_prob = temp.iloc[temp['probabilities'].idxmax(axis=1)][0]\n",
    "    \n",
    "    result.append(max_prob)"
   ]
  },
  {
   "cell_type": "code",
   "execution_count": 110,
   "metadata": {},
   "outputs": [],
   "source": [
    "ad_sp.obs['Tangram_prediction_max'] = result"
   ]
  },
  {
   "cell_type": "markdown",
   "metadata": {},
   "source": [
    "## By sum cell probability"
   ]
  },
  {
   "cell_type": "code",
   "execution_count": 111,
   "metadata": {},
   "outputs": [],
   "source": [
    "result = []\n",
    "\n",
    "for row in range(10418):\n",
    "    \n",
    "    #get mapping for cell\n",
    "    temp = pd.DataFrame({'celltypes':ad_sc.obs['celltype'].values,\n",
    "                     'probabilities':ad_map.X[:,row]})\n",
    "    \n",
    "    #mean probability across all celltypes\n",
    "    temp = temp.groupby('celltypes').sum()\n",
    "    \n",
    "    #extract max sum probability\n",
    "    \n",
    "    temp = temp.idxmax().values[0]\n",
    "    \n",
    "    result.append(temp)"
   ]
  },
  {
   "cell_type": "code",
   "execution_count": 112,
   "metadata": {},
   "outputs": [],
   "source": [
    "ad_sp.obs['Tangram_prediction_maxsum'] = result"
   ]
  },
  {
   "cell_type": "markdown",
   "metadata": {},
   "source": [
    "# Save predictions to file"
   ]
  },
  {
   "cell_type": "code",
   "execution_count": 113,
   "metadata": {},
   "outputs": [],
   "source": [
    "ad_sp.obs[['celltype','Tangram_prediction_avg','Tangram_prediction_max','Tangram_prediction_maxsum']].to_csv('../outputs/Tabula_Sapiens_predictions_Tangram.csv')"
   ]
  }
 ],
 "metadata": {
  "kernelspec": {
   "display_name": "Python [conda env:.conda-STANN]",
   "language": "python",
   "name": "conda-env-.conda-STANN-py"
  },
  "language_info": {
   "codemirror_mode": {
    "name": "ipython",
    "version": 3
   },
   "file_extension": ".py",
   "mimetype": "text/x-python",
   "name": "python",
   "nbconvert_exporter": "python",
   "pygments_lexer": "ipython3",
   "version": "3.8.10"
  }
 },
 "nbformat": 4,
 "nbformat_minor": 4
}
