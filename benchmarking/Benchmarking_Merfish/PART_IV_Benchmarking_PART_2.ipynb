{
 "cells": [
  {
   "cell_type": "code",
   "execution_count": 1,
   "metadata": {},
   "outputs": [],
   "source": [
    "#   ___                  _                \n",
    "#  / _/______ ____  ____(_)__ _______     \n",
    "# / _/ __/ _ `/ _ \\/ __/ (_-</ __/ _ \\    \n",
    "#/_//_/  \\_,_/_//_/\\__/_/___/\\__/\\___/    \n",
    "# ___ _____(_)__ ___ ____  / /_(_)       \n",
    "# / _ `/ __/ (_-</ _ `/ _ \\/ __/ /        \n",
    "# \\_, /_/ /_/___/\\_,_/_//_/\\__/_/         \n",
    "#/___/\n",
    "#\n",
    "#Samee Lab @ Baylor College Of Medicine\n",
    "#francisco.grisanticanozo@bcm.edu"
   ]
  },
  {
   "cell_type": "code",
   "execution_count": 4,
   "metadata": {},
   "outputs": [],
   "source": [
    "\n",
    "library(Seurat)\n",
    "\n",
    "\n",
    "library(dplyr)\n",
    "library(Matrix)\n",
    "library(SeuratDisk)\n",
    "library(methods)\n",
    "library(ggplot2)\n",
    "library(doParallel)\n",
    "\n",
    "options(stringsAsFactors = FALSE)\n",
    "future::plan(\"multiprocess\", workers = 20) # do parallel\n",
    "options(future.globals.maxSize = 20000 * 1024^2)"
   ]
  },
  {
   "cell_type": "code",
   "execution_count": 5,
   "metadata": {},
   "outputs": [],
   "source": [
    "file_path_train_data <- '../Data/Single_Cell_Reference/adata_processed_for_rds.h5seurat'\n",
    "file_path_train_data_obs <- '../Data/Single_Cell_Reference/adata_metadata.csv'\n",
    "\n",
    "file_path_predict_data <- '../Data/Merfish/merfish_for_rds.h5seurat'\n",
    "file_path_predict_data_obs <- '../Data/Merfish/merfish_metadata.csv'"
   ]
  },
  {
   "cell_type": "code",
   "execution_count": 7,
   "metadata": {
    "scrolled": true
   },
   "outputs": [
    {
     "name": "stderr",
     "output_type": "stream",
     "text": [
      "Validating h5Seurat file\n",
      "\n",
      "Initializing RNA with data\n",
      "\n",
      "Adding counts for RNA\n",
      "\n",
      "Adding scale.data for RNA\n",
      "\n",
      "Adding feature-level metadata for RNA\n",
      "\n",
      "Adding command information\n",
      "\n",
      "Adding cell-level metadata\n",
      "\n",
      "Adding miscellaneous information\n",
      "\n",
      "Adding tool-specific results\n",
      "\n",
      "Validating h5Seurat file\n",
      "\n",
      "Initializing RNA with data\n",
      "\n",
      "Adding counts for RNA\n",
      "\n",
      "Adding scale.data for RNA\n",
      "\n",
      "Adding feature-level metadata for RNA\n",
      "\n",
      "Adding command information\n",
      "\n",
      "Adding cell-level metadata\n",
      "\n",
      "Adding miscellaneous information\n",
      "\n",
      "Adding tool-specific results\n",
      "\n"
     ]
    }
   ],
   "source": [
    "# load train data\n",
    "\n",
    "adata_train <- LoadH5Seurat(file_path_train_data)\n",
    "adata_train_obs <- as.data.frame(read.csv(file_path_train_data_obs))\n",
    "adata_train_m <- t(as.matrix(GetAssayData(adata_train, assay= 'RNA', slot = \"data\")))\n",
    "adata_train <- CreateSeuratObject(t(adata_train_m))\n",
    "adata_train$celltype <- adata_train_obs$celltype\n",
    "\n",
    "# load predict data\n",
    "\n",
    "adata_predict <- LoadH5Seurat(file_path_predict_data)\n",
    "adata_predict_obs <- as.data.frame(read.csv(file_path_predict_data_obs))\n",
    "adata_predict_m <- t(as.matrix(GetAssayData(adata_predict, assay= 'RNA', slot = \"data\")))\n",
    "adata_predict <- CreateSeuratObject(t(adata_predict_m))\n",
    "adata_predict$celltype <- adata_predict_obs$celltype"
   ]
  },
  {
   "cell_type": "code",
   "execution_count": 16,
   "metadata": {
    "scrolled": true
   },
   "outputs": [
    {
     "name": "stderr",
     "output_type": "stream",
     "text": [
      "Centering and scaling data matrix\n",
      "\n",
      "PC_ 1 \n",
      "Positive:  Syt4, Scg2, Pak3, Gad1, Gabra1, Nnat, Gda, Cpne5, Gabrg1, Vgf \n",
      "\t   Rgs2, Prlr, Ar, Htr2c, Baiap2, Oprl1, Irs4, Col25a1, Cspg5, Pnoc \n",
      "\t   Ntng1, Isl1, Cartpt, Pgr, Penk, Necab1, Slc17a6, Nts, Cbln2, Oprk1 \n",
      "Negative:  Ermn, Mbp, Opalin, Gjc3, Lpar1, Ndrg1, Etv1, Ttyh2, Sgk1, Plin3 \n",
      "\t   Sox8, Klf4, Sema4d, Cdkn1a, Fos, Slco1a4, Selplg, Slc15a3, Pdgfra, Fn1 \n",
      "\t   Mlc1, Aqp4, Aldh1l1, Traf4, Cyr61, Cenpe, Rgs5, Bmp7, Ndnf, Man1a \n",
      "PC_ 2 \n",
      "Positive:  Pdgfra, Sox6, Traf4, Cyr61, Cspg5, Sox4, Cxcl14, Cdkn1a, Fos, Baiap2 \n",
      "\t   Nnat, Bmp7, Klf4, Tiparp, Aqp4, Mlc1, Tac1, Slco1a4, Ccnd2, Fn1 \n",
      "\t   Adora2a, Selplg, Ano3, Slc15a3, Egr2, Sox8, Penk, Cpne5, Pou3f2, Gem \n",
      "Negative:  Prlr, Ermn, Slc17a6, Opalin, Pak3, Irs4, Mbp, Lpar1, Ndrg1, Ar \n",
      "\t   Adcyap1, Gabra1, Cbln2, Pnoc, Dgkk, Bdnf, Cbln1, Nos1, Syt4, Pgr \n",
      "\t   Gal, Ttyh2, Trh, Esr1, Onecut2, Etv1, Oprl1, Arhgap36, Amigo2, Col25a1 \n",
      "PC_ 3 \n",
      "Positive:  Cspg5, Pdgfra, Traf4, Sox6, Slc17a6, Pcdh11x, Sox4, Bmp7, Tmem108, Cbln2 \n",
      "\t   Pou3f2, Adcyap1, Prlr, Oprl1, Cbln1, Ccnd2, Bdnf, Trh, Cyr61, Mlc1 \n",
      "\t   Aqp4, Irs4, Gabra1, Cxcl14, Nos1, Cd24a, Dgkk, Onecut2, Pak3, Fezf1 \n",
      "Negative:  Baiap2, Cpne5, Penk, Ano3, Adora2a, Gda, Rgs2, Synpr, Cartpt, Ramp3 \n",
      "\t   Tac1, Sp9, Gad1, Man1a, Htr2c, Nts, Vgf, Egr2, Necab1, Isl1 \n",
      "\t   Scg2, Ermn, Lpar1, Opalin, Mbp, Sgk1, Fst, Npy1r, Ndrg1, Crh \n",
      "PC_ 4 \n",
      "Positive:  Cspg5, Pdgfra, Sox8, Sox6, Gjc3, Traf4, Cxcl14, Tac1, Pcdh11x, Nnat \n",
      "\t   Etv1, Bmp7, Ano3, Aqp4, Cpne5, Gda, Mlc1, Pou3f2, Ermn, Synpr \n",
      "\t   Sox4, Mbp, Opalin, Gabrg1, Penk, Lpar1, Adora2a, Aldh1l1, Gad1, Cartpt \n",
      "Negative:  Slco1a4, Cdkn1a, Fn1, Klf4, Selplg, Slc15a3, Sema3c, Rgs5, Igf1r, Gem \n",
      "\t   Fos, Ndnf, Egr2, Serpine1, Sgk1, Tiparp, Cyr61, Sema4d, Slc17a6, Lepr \n",
      "\t   Ndrg1, Man1a, Bdnf, Adcyap1, Cbln2, Trh, Vgf, Cbln1, Ccnd2, Cck \n",
      "PC_ 5 \n",
      "Positive:  Slc17a6, Adcyap1, Cbln1, Bdnf, Trh, Fezf1, Cbln2, Penk, Necab1, Ano3 \n",
      "\t   Adora2a, Tac1, Baiap2, Cpne5, Synpr, Sln, Trhr, Onecut2, Ebf3, Man1a \n",
      "\t   Cxcl14, Ramp3, Aqp4, Ntng1, Omp, Mlc1, Tacr1, Nos1, Cartpt, Glra3 \n",
      "Negative:  Gad1, Gal, Pnoc, Vgf, Slc18a2, Fos, Amigo2, Isl1, Coch, Irs4 \n",
      "\t   Scg2, Esr1, Serpine1, Prlr, Th, Creb3l1, Nts, Arhgap36, Gem, Syt4 \n",
      "\t   Dgkk, Oprk1, Ar, Avpr1a, Brs3, Tac2, Ndrg1, Tmem108, Npy2r, Cplx3 \n",
      "\n"
     ]
    }
   ],
   "source": [
    "adata_train <- adata_train  %>% FindVariableFeatures() %>% ScaleData() %>% RunPCA() "
   ]
  },
  {
   "cell_type": "code",
   "execution_count": 17,
   "metadata": {
    "scrolled": true
   },
   "outputs": [
    {
     "name": "stderr",
     "output_type": "stream",
     "text": [
      "Centering and scaling data matrix\n",
      "\n",
      "PC_ 1 \n",
      "Positive:  Ttyh2, Mbp, Ermn, Sgk1, Gjc3, Ndrg1, Lpar1, Opalin, Plin3, Sox8 \n",
      "\t   Fn1, Aqp4, Rgs5, Slco1a4, Cck, Klf4, Aldh1l1, Mlc1, Gnrh1, Cxcl14 \n",
      "\t   Gbx2, Igf1r, Cdkn1a, Adora2a, Cyr61, Pdgfra, Etv1, Ndnf, Bmp7, Selplg \n",
      "Negative:  Pak3, Syt4, Oprl1, Gpr165, Ar, Irs4, Cbln2, Prlr, Gabra1, Gad1 \n",
      "\t   Gda, Glra3, Pgr, Nos1, Dgkk, Col25a1, Tmem108, Amigo2, Htr2c, Slc17a6 \n",
      "\t   Scg2, Rgs2, Arhgap36, Cpne5, Esr1, Npy2r, Pnoc, Igf2r, Cspg5, Rnd3 \n",
      "PC_ 2 \n",
      "Positive:  Ermn, Mbp, Sgk1, Gjc3, Opalin, Ndrg1, Lpar1, Sema4d, Ttyh2, Omp \n",
      "\t   Glra3, Man1a, Sox8, Pak3, Prlr, Plin3, Esr1, Trhr, Kiss1r, Scg2 \n",
      "\t   Oprl1, Syt4, Ar, Col25a1, Coch, Tacr1, Pgr, Irs4, Gda, Synpr \n",
      "Negative:  Mlc1, Aldh1l1, Aqp4, Cxcl14, Fn1, Rgs5, Igf1r, Slco1a4, Pou3f2, Klf4 \n",
      "\t   Sox6, Cyr61, Bmp7, Cspg5, Sema3c, Nnat, Traf4, Myh11, Adora2a, Cdkn1a \n",
      "\t   Ndnf, Ace2, Baiap2, Ccnd2, Pdgfra, Sox4, Tiparp, Lepr, Sln, Lmod1 \n",
      "PC_ 3 \n",
      "Positive:  Aqp4, Aldh1l1, Sox8, Cxcl14, Sox6, Pou3f2, Cspg5, Mlc1, Traf4, Ttyh2 \n",
      "\t   Cyr61, Bmp7, Pdgfra, Tiparp, Gjc3, Gabrg1, Nnat, Sema4d, Creb3l1, Pcdh11x \n",
      "\t   Sox4, Etv1, Plin3, Cd24a, Lpar1, Cckbr, Rnd3, Cenpe, Opalin, Grpr \n",
      "Negative:  Slco1a4, Fn1, Rgs5, Klf4, Sema3c, Igf1r, Ndrg1, Ndnf, Adora2a, Myh11 \n",
      "\t   Ace2, Baiap2, Lepr, Cdkn1a, Scg2, Syt4, Ar, Prlr, Man1a, Col25a1 \n",
      "\t   Vgf, Ramp3, Irs4, Gabra1, Esr1, Pgr, Gal, Cpne5, Necab1, Galr1 \n",
      "PC_ 4 \n",
      "Positive:  Sln, Nnat, Igf1r, Plin3, Ndrg1, Fn1, Ttyh2, Lpar1, Slco1a4, Rgs5 \n",
      "\t   Klf4, Sox8, Sgk1, Ccnd2, Ndnf, Etv1, Cyr61, Omp, Gjc3, Cd24a \n",
      "\t   Cdkn1a, Bmp7, Lmod1, Myh11, Opalin, Ermn, Tac1, Mlc1, Baiap2, Sox4 \n",
      "Negative:  Gad1, Dgkk, Gabra1, Cbln2, Nts, Vgf, Penk, Th, Tac2, Syt4 \n",
      "\t   Gal, Scg2, Crh, Gpr165, Ar, Irs4, Fos, Col25a1, Isl1, Glra3 \n",
      "\t   Necab1, Htr2c, Rgs2, Sst, Serpinb1b, Gda, Pgr, Arhgap36, Pak3, Ebf3 \n",
      "PC_ 5 \n",
      "Positive:  Esr1, Scg2, Irs4, Coch, Greb1, Gal, Sytl4, Pgr, Prlr, Calcr \n",
      "\t   Ar, Nts, Gda, Mlc1, Ttyh2, Cartpt, Slc18a2, Cd24a, Amigo2, Aqp4 \n",
      "\t   Arhgap36, Oprk1, Isl1, Ndrg1, Aldh1l1, Brs3, Col25a1, Plin3, Tac2, Tiparp \n",
      "Negative:  Slc17a6, Ebf3, Gabra1, Syt2, Necab1, Bdnf, Cbln2, Tacr3, Fezf1, Penk \n",
      "\t   Man1a, Sema3c, Slc17a7, Pdgfra, Serpinb1b, Onecut2, Ccnd2, Cbln1, Chat, Syt4 \n",
      "\t   Sp9, Npas1, Tmem108, Adcyap1, Tacr1, Selplg, Galr2, Nos1, Avpr1a, Bmp7 \n",
      "\n"
     ]
    }
   ],
   "source": [
    "adata_predict <- adata_predict %>% FindVariableFeatures() %>% ScaleData() %>% RunPCA()"
   ]
  },
  {
   "cell_type": "markdown",
   "metadata": {},
   "source": [
    "# Run Seurat"
   ]
  },
  {
   "cell_type": "code",
   "execution_count": 18,
   "metadata": {},
   "outputs": [
    {
     "name": "stderr",
     "output_type": "stream",
     "text": [
      "Performing PCA on the provided reference using 155 features as input.\n",
      "\n",
      "Projecting cell embeddings\n",
      "\n",
      "Finding neighborhoods\n",
      "\n",
      "Finding anchors\n",
      "\n",
      "\tFound 36600 anchors\n",
      "\n",
      "Filtering anchors\n",
      "\n",
      "\tRetained 6001 anchors\n",
      "\n"
     ]
    }
   ],
   "source": [
    "anchors <- FindTransferAnchors(reference = adata_train, \n",
    "                               query = adata_predict,\n",
    "                               verbose=T)"
   ]
  },
  {
   "cell_type": "code",
   "execution_count": 19,
   "metadata": {},
   "outputs": [
    {
     "name": "stderr",
     "output_type": "stream",
     "text": [
      "Finding integration vectors\n",
      "\n",
      "Finding integration vector weights\n",
      "\n",
      "Predicting cell labels\n",
      "\n"
     ]
    }
   ],
   "source": [
    "predictions <- TransferData(anchorset = anchors, \n",
    "                            refdata = adata_train$celltype)"
   ]
  },
  {
   "cell_type": "code",
   "execution_count": 20,
   "metadata": {},
   "outputs": [],
   "source": [
    "adata_predict <- AddMetaData(adata_predict, metadata = predictions)"
   ]
  },
  {
   "cell_type": "code",
   "execution_count": 23,
   "metadata": {},
   "outputs": [],
   "source": [
    "write.csv(adata_predict@meta.data,'../outputs/Seurat_predictions.csv')"
   ]
  },
  {
   "cell_type": "code",
   "execution_count": null,
   "metadata": {},
   "outputs": [],
   "source": []
  }
 ],
 "metadata": {
  "kernelspec": {
   "display_name": "R [conda env:.conda-seurat_v4]",
   "language": "R",
   "name": "conda-env-.conda-seurat_v4-r"
  },
  "language_info": {
   "codemirror_mode": "r",
   "file_extension": ".r",
   "mimetype": "text/x-r-source",
   "name": "R",
   "pygments_lexer": "r",
   "version": "4.0.3"
  }
 },
 "nbformat": 4,
 "nbformat_minor": 4
}
