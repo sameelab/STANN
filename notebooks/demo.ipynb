{
 "cells": [
  {
   "cell_type": "code",
   "execution_count": 1,
   "metadata": {},
   "outputs": [],
   "source": [
    "#\n",
    "#   ___                  _                \n",
    "#  / _/______ ____  ____(_)__ _______     \n",
    "# / _/ __/ _ `/ _ \\/ __/ (_-</ __/ _ \\    \n",
    "#/_//_/  \\_,_/_//_/\\__/_/___/\\__/\\___/    \n",
    "# ___ _____(_)__ ___ ____  / /_(_)       \n",
    "# / _ `/ __/ (_-</ _ `/ _ \\/ __/ /        \n",
    "# \\_, /_/ /_/___/\\_,_/_//_/\\__/_/         \n",
    "#/___/\n",
    "#\n",
    "#Samee Lab @ Baylor College Of Medicine\n",
    "#francisco.grisanticanozo@bcm.edu"
   ]
  },
  {
   "cell_type": "code",
   "execution_count": 2,
   "metadata": {
    "tags": []
   },
   "outputs": [
    {
     "name": "stdout",
     "output_type": "stream",
     "text": [
      "======================================== System Information ========================================\n",
      "System: Darwin\n",
      "Node Name: franciscosmbp2.ad.bcm.edu\n",
      "Release: 19.6.0\n",
      "Version: Darwin Kernel Version 19.6.0: Sun Jul  5 00:43:10 PDT 2020; root:xnu-6153.141.1~9/RELEASE_X86_64\n",
      "Machine: x86_64\n"
     ]
    }
   ],
   "source": [
    "import psutil\n",
    "import platform\n",
    "from datetime import datetime\n",
    "\n",
    "print(\"=\"*40, \"System Information\", \"=\"*40)\n",
    "uname = platform.uname()\n",
    "print(f\"System: {uname.system}\")\n",
    "print(f\"Node Name: {uname.node}\")\n",
    "print(f\"Release: {uname.release}\")\n",
    "print(f\"Version: {uname.version}\")\n",
    "print(f\"Machine: {uname.machine}\")"
   ]
  },
  {
   "cell_type": "code",
   "execution_count": 3,
   "metadata": {
    "tags": []
   },
   "outputs": [
    {
     "name": "stdout",
     "output_type": "stream",
     "text": [
      "scanpy==1.6.0 anndata==0.7.4 umap==0.4.6 numpy==1.19.1 scipy==1.4.1 pandas==1.1.2 scikit-learn==0.23.2 statsmodels==0.12.0\n"
     ]
    }
   ],
   "source": [
    "#Load libraries\n",
    "import matplotlib.pyplot as plt\n",
    "import numpy as np\n",
    "import random\n",
    "import os\n",
    "import sys\n",
    "import pandas as pd\n",
    "import warnings\n",
    "import seaborn as sb\n",
    "import sklearn\n",
    "import tqdm\n",
    "import scanpy as sc\n",
    "import anndata\n",
    "sc.logging.print_header()"
   ]
  },
  {
   "cell_type": "code",
   "execution_count": 4,
   "metadata": {},
   "outputs": [],
   "source": [
    "sys.path.append('../')\n",
    "from STANN.models import STANN\n",
    "import STANN.utils as utils"
   ]
  },
  {
   "cell_type": "code",
   "execution_count": 5,
   "metadata": {
    "tags": []
   },
   "outputs": [
    {
     "name": "stdout",
     "output_type": "stream",
     "text": [
      "tensorflow==2.2.0 \n",
      "keras==2.3.0-tf\n"
     ]
    }
   ],
   "source": [
    "import tensorflow as tf\n",
    "import tensorflow.keras as keras\n",
    "print(f'tensorflow=={tf.__version__} \\nkeras=={tf.keras.__version__}')"
   ]
  },
  {
   "cell_type": "code",
   "execution_count": 6,
   "metadata": {},
   "outputs": [],
   "source": [
    "#Reproducibility\n",
    "seed = 10\n",
    "np.random.seed(seed)\n",
    "tf.random.set_seed(seed)"
   ]
  },
  {
   "cell_type": "code",
   "execution_count": 7,
   "metadata": {
    "tags": []
   },
   "outputs": [
    {
     "name": "stdout",
     "output_type": "stream",
     "text": [
      "[INFO] loading training data...\n",
      "[INFO] loading predict data...\n"
     ]
    }
   ],
   "source": [
    "################LOAD DATA###################\n",
    "\n",
    "# check to see which data\n",
    "print(\"[INFO] loading training data...\")\n",
    "adata_train = sc.read_h5ad(\"../data/scrna.h5ad\")\n",
    "\n",
    "print(\"[INFO] loading predict data...\")\n",
    "adata_predict = sc.read_h5ad(\"../data/seqfish.h5ad\")"
   ]
  },
  {
   "cell_type": "code",
   "execution_count": 8,
   "metadata": {
    "tags": []
   },
   "outputs": [
    {
     "name": "stdout",
     "output_type": "stream",
     "text": [
      "Model: \"sequential\"\n",
      "_________________________________________________________________\n",
      "Layer (type)                 Output Shape              Param #   \n",
      "=================================================================\n",
      "dense (Dense)                (None, 160)               1445120   \n",
      "_________________________________________________________________\n",
      "dense_1 (Dense)              (None, 145)               23345     \n",
      "_________________________________________________________________\n",
      "dense_2 (Dense)              (None, 15)                2190      \n",
      "=================================================================\n",
      "Total params: 1,470,655\n",
      "Trainable params: 1,470,655\n",
      "Non-trainable params: 0\n",
      "_________________________________________________________________\n"
     ]
    }
   ],
   "source": [
    "model = STANN(act_fun='tanh',\n",
    "              first_dense=160,\n",
    "              second_dense=145.0,\n",
    "              learning_rate=0.01,input_dim=adata_train.X.shape[1],\n",
    "              output_dim=len(adata_train.obs.celltype.unique()))\n",
    "\n",
    "model.summary()"
   ]
  },
  {
   "cell_type": "code",
   "execution_count": 9,
   "metadata": {
    "tags": []
   },
   "outputs": [
    {
     "name": "stdout",
     "output_type": "stream",
     "text": [
      "[INFO] Equal columns = True\n",
      "[INFO] Data organized\n"
     ]
    }
   ],
   "source": [
    "X_train, Y_train, X_predict = utils.organize_data(adata_train=adata_train,\n",
    "                                            adata_predict=adata_predict)"
   ]
  },
  {
   "cell_type": "code",
   "execution_count": 12,
   "metadata": {},
   "outputs": [],
   "source": [
    "X_train_scaled , scaler_train = utils.min_max(X=X_train)"
   ]
  },
  {
   "cell_type": "code",
   "execution_count": 14,
   "metadata": {},
   "outputs": [
    {
     "name": "stderr",
     "output_type": "stream",
     "text": [
      "/opt/miniconda3/envs/STANN/lib/python3.8/site-packages/seaborn/distributions.py:2551: FutureWarning: `distplot` is a deprecated function and will be removed in a future version. Please adapt your code to use either `displot` (a figure-level function with similar flexibility) or `histplot` (an axes-level function for histograms).\n",
      "  warnings.warn(msg, FutureWarning)\n"
     ]
    },
    {
     "data": {
      "image/png": "[encoded data removed]",
      "text/plain": [
       "<Figure size 360x360 with 1 Axes>"
      ]
     },
     "metadata": {
      "needs_background": "light"
     },
     "output_type": "display_data"
    }
   ],
   "source": [
    "#Sample obs distribution\n",
    "fig, ax = plt.subplots(figsize=(5,5))\n",
    "sb.distplot(X_train_scaled[0],bins=200,ax=ax)\n",
    "ax.set_xlim(-2,2)\n",
    "ax.set(xlabel='Expression', ylabel='Frequency')\n",
    "ax.set_title('w/ normalization')\n",
    "plt.show()"
   ]
  },
  {
   "cell_type": "code",
   "execution_count": 13,
   "metadata": {},
   "outputs": [],
   "source": [
    "X_predict_scaled , scaler_predict = utils.min_max(X=X_predict)"
   ]
  },
  {
   "cell_type": "code",
   "execution_count": 16,
   "metadata": {},
   "outputs": [
    {
     "name": "stderr",
     "output_type": "stream",
     "text": [
      "/opt/miniconda3/envs/STANN/lib/python3.8/site-packages/seaborn/distributions.py:2551: FutureWarning: `distplot` is a deprecated function and will be removed in a future version. Please adapt your code to use either `displot` (a figure-level function with similar flexibility) or `histplot` (an axes-level function for histograms).\n",
      "  warnings.warn(msg, FutureWarning)\n"
     ]
    },
    {
     "data": {
      "image/png": "[encoded data removed]",
      "text/plain": [
       "<Figure size 360x360 with 1 Axes>"
      ]
     },
     "metadata": {
      "needs_background": "light"
     },
     "output_type": "display_data"
    }
   ],
   "source": [
    "#Sample obs distribution\n",
    "fig, ax = plt.subplots(figsize=(5,5))\n",
    "sb.distplot(X_predict_scaled[0],bins=200,ax=ax)\n",
    "ax.set_xlim(-2,2)\n",
    "ax.set(xlabel='Expression', ylabel='Frequency')\n",
    "ax.set_title('w/ normalization')\n",
    "plt.show()"
   ]
  },
  {
   "cell_type": "code",
   "execution_count": 17,
   "metadata": {},
   "outputs": [
    {
     "name": "stderr",
     "output_type": "stream",
     "text": [
      "/opt/miniconda3/envs/STANN/lib/python3.8/site-packages/sklearn/utils/validation.py:72: DataConversionWarning: A column-vector y was passed when a 1d array was expected. Please change the shape of y to (n_samples, ), for example using ravel().\n",
      "  return f(**kwargs)\n"
     ]
    }
   ],
   "source": [
    "Y_train_dummy,Y_train_ohe,encoder = utils.label_encoder(Y_train=Y_train)"
   ]
  },
  {
   "cell_type": "code",
   "execution_count": 18,
   "metadata": {
    "tags": []
   },
   "outputs": [
    {
     "name": "stdout",
     "output_type": "stream",
     "text": [
      "[INFO] X_train shape=(10515, 9031)\n",
      "[INFO] y_train shape=(10515, 15)\n",
      "\n",
      "[INFO] X_test shape=(1169, 9031)\n",
      "[INFO] y_test shape=(1169, 15)\n"
     ]
    }
   ],
   "source": [
    "x_train, x_test, y_train, y_test = utils.get_train_test_split(X_train_scaled,\n",
    "                                                    Y_train_ohe,\n",
    "                                                    test_size=0.10, \n",
    "                                                    random_state=40)"
   ]
  },
  {
   "cell_type": "code",
   "execution_count": 19,
   "metadata": {},
   "outputs": [
    {
     "name": "stderr",
     "output_type": "stream",
     "text": [
      "/opt/miniconda3/envs/STANN/lib/python3.8/site-packages/sklearn/utils/validation.py:67: FutureWarning: Pass classes=[ 0  1  2  3  4  5  6  7  8  9 10 11 12 13 14], y=[12  0 13 ... 13  0 13] as keyword args. From version 0.25 passing these as positional arguments will result in an error\n",
      "  warnings.warn(\"Pass {} as keyword args. From version 0.25 \"\n"
     ]
    },
    {
     "data": {
      "text/plain": [
       "{0: 0.6425297891842346,\n",
       " 1: 0.772877618522602,\n",
       " 2: 5.841666666666667,\n",
       " 3: 6.258928571428571,\n",
       " 4: 0.6947472745292369,\n",
       " 5: 6.315315315315315,\n",
       " 6: 2.9208333333333334,\n",
       " 7: 2.933054393305439,\n",
       " 8: 0.34481062469257256,\n",
       " 9: 0.8256772673733804,\n",
       " 10: 4.704697986577181,\n",
       " 11: 2.442508710801394,\n",
       " 12: 1.3176691729323309,\n",
       " 13: 0.2574366507528461,\n",
       " 14: 6.20353982300885}"
      ]
     },
     "execution_count": 19,
     "metadata": {},
     "output_type": "execute_result"
    }
   ],
   "source": [
    "class_weights = utils.get_class_weights(Y_train_ohe=y_train)\n",
    "class_weights = {i : class_weights[i] for i in range(15)}\n",
    "class_weights"
   ]
  },
  {
   "cell_type": "code",
   "execution_count": 20,
   "metadata": {},
   "outputs": [],
   "source": [
    "#early stopping\n",
    "es = tf.keras.callbacks.EarlyStopping(monitor='accuracy', \n",
    "                                      mode='min', \n",
    "                                      verbose=1,\n",
    "                                      patience=30)"
   ]
  },
  {
   "cell_type": "code",
   "execution_count": 21,
   "metadata": {
    "tags": []
   },
   "outputs": [
    {
     "name": "stdout",
     "output_type": "stream",
     "text": [
      "Epoch 1/30\n",
      "329/329 [==============================] - 1s 4ms/step - loss: 2.1365 - accuracy: 0.4156 - val_loss: 1.8201 - val_accuracy: 0.7100\n",
      "Epoch 2/30\n",
      "329/329 [==============================] - 1s 4ms/step - loss: 1.1036 - accuracy: 0.7982 - val_loss: 1.0831 - val_accuracy: 0.8246\n",
      "Epoch 3/30\n",
      "329/329 [==============================] - 1s 4ms/step - loss: 0.6224 - accuracy: 0.8709 - val_loss: 0.6871 - val_accuracy: 0.8785\n",
      "Epoch 4/30\n",
      "329/329 [==============================] - 1s 4ms/step - loss: 0.4057 - accuracy: 0.9179 - val_loss: 0.5949 - val_accuracy: 0.8358\n",
      "Epoch 5/30\n",
      "329/329 [==============================] - 1s 3ms/step - loss: 0.2886 - accuracy: 0.9386 - val_loss: 0.4274 - val_accuracy: 0.9247\n",
      "Epoch 6/30\n",
      "329/329 [==============================] - 1s 4ms/step - loss: 0.2160 - accuracy: 0.9556 - val_loss: 0.3414 - val_accuracy: 0.9410\n",
      "Epoch 7/30\n",
      "329/329 [==============================] - 1s 3ms/step - loss: 0.1691 - accuracy: 0.9630 - val_loss: 0.3043 - val_accuracy: 0.9299\n",
      "Epoch 8/30\n",
      "329/329 [==============================] - 1s 3ms/step - loss: 0.1360 - accuracy: 0.9725 - val_loss: 0.2776 - val_accuracy: 0.9316\n",
      "Epoch 9/30\n",
      "329/329 [==============================] - 1s 3ms/step - loss: 0.1107 - accuracy: 0.9762 - val_loss: 0.2276 - val_accuracy: 0.9470\n",
      "Epoch 10/30\n",
      "329/329 [==============================] - 1s 4ms/step - loss: 0.0920 - accuracy: 0.9815 - val_loss: 0.2292 - val_accuracy: 0.9410\n",
      "Epoch 11/30\n",
      "329/329 [==============================] - 1s 4ms/step - loss: 0.0781 - accuracy: 0.9841 - val_loss: 0.1962 - val_accuracy: 0.9555\n",
      "Epoch 12/30\n",
      "329/329 [==============================] - 1s 3ms/step - loss: 0.0671 - accuracy: 0.9854 - val_loss: 0.1909 - val_accuracy: 0.9521\n",
      "Epoch 13/30\n",
      "329/329 [==============================] - 1s 4ms/step - loss: 0.0577 - accuracy: 0.9882 - val_loss: 0.1813 - val_accuracy: 0.9504\n",
      "Epoch 14/30\n",
      "329/329 [==============================] - 1s 4ms/step - loss: 0.0505 - accuracy: 0.9899 - val_loss: 0.1691 - val_accuracy: 0.9504\n",
      "Epoch 15/30\n",
      "329/329 [==============================] - 1s 4ms/step - loss: 0.0448 - accuracy: 0.9918 - val_loss: 0.1679 - val_accuracy: 0.9530\n",
      "Epoch 16/30\n",
      "329/329 [==============================] - 1s 4ms/step - loss: 0.0395 - accuracy: 0.9932 - val_loss: 0.1702 - val_accuracy: 0.9478\n",
      "Epoch 17/30\n",
      "329/329 [==============================] - 1s 4ms/step - loss: 0.0354 - accuracy: 0.9948 - val_loss: 0.1598 - val_accuracy: 0.9530\n",
      "Epoch 18/30\n",
      "329/329 [==============================] - 1s 4ms/step - loss: 0.0319 - accuracy: 0.9954 - val_loss: 0.1558 - val_accuracy: 0.9512\n",
      "Epoch 19/30\n",
      "329/329 [==============================] - 1s 4ms/step - loss: 0.0290 - accuracy: 0.9962 - val_loss: 0.1549 - val_accuracy: 0.9504\n",
      "Epoch 20/30\n",
      "329/329 [==============================] - 1s 3ms/step - loss: 0.0262 - accuracy: 0.9969 - val_loss: 0.1516 - val_accuracy: 0.9512\n",
      "Epoch 21/30\n",
      "329/329 [==============================] - 1s 3ms/step - loss: 0.0240 - accuracy: 0.9974 - val_loss: 0.1484 - val_accuracy: 0.9495\n",
      "Epoch 22/30\n",
      "329/329 [==============================] - 1s 4ms/step - loss: 0.0221 - accuracy: 0.9982 - val_loss: 0.1471 - val_accuracy: 0.9530\n",
      "Epoch 23/30\n",
      "329/329 [==============================] - 1s 4ms/step - loss: 0.0204 - accuracy: 0.9985 - val_loss: 0.1464 - val_accuracy: 0.9504\n",
      "Epoch 24/30\n",
      "329/329 [==============================] - 1s 4ms/step - loss: 0.0189 - accuracy: 0.9987 - val_loss: 0.1446 - val_accuracy: 0.9504\n",
      "Epoch 25/30\n",
      "329/329 [==============================] - 1s 4ms/step - loss: 0.0175 - accuracy: 0.9990 - val_loss: 0.1461 - val_accuracy: 0.9512\n",
      "Epoch 26/30\n",
      "329/329 [==============================] - 1s 3ms/step - loss: 0.0164 - accuracy: 0.9991 - val_loss: 0.1434 - val_accuracy: 0.9547\n",
      "Epoch 27/30\n",
      "329/329 [==============================] - 1s 3ms/step - loss: 0.0153 - accuracy: 0.9993 - val_loss: 0.1424 - val_accuracy: 0.9530\n",
      "Epoch 28/30\n",
      "329/329 [==============================] - 1s 3ms/step - loss: 0.0143 - accuracy: 0.9995 - val_loss: 0.1430 - val_accuracy: 0.9538\n",
      "Epoch 29/30\n",
      "329/329 [==============================] - 1s 3ms/step - loss: 0.0135 - accuracy: 0.9996 - val_loss: 0.1434 - val_accuracy: 0.9564\n",
      "Epoch 30/30\n",
      "329/329 [==============================] - 1s 4ms/step - loss: 0.0127 - accuracy: 0.9998 - val_loss: 0.1423 - val_accuracy: 0.9521\n"
     ]
    }
   ],
   "source": [
    "history = model.fit(x_train, \n",
    "                    y_train, \n",
    "                    validation_data=(x_test, y_test),\n",
    "                    epochs=30,\n",
    "                    class_weight=class_weights,\n",
    "                    callbacks=[es])"
   ]
  },
  {
   "cell_type": "code",
   "execution_count": 22,
   "metadata": {},
   "outputs": [
    {
     "data": {
      "text/plain": [
       "<matplotlib.legend.Legend at 0x7fb4ad1fa400>"
      ]
     },
     "execution_count": 22,
     "metadata": {},
     "output_type": "execute_result"
    },
    {
     "data": {
      "image/png": "[encoded data removed]",
      "text/plain": [
       "<Figure size 360x360 with 1 Axes>"
      ]
     },
     "metadata": {
      "needs_background": "light"
     },
     "output_type": "display_data"
    }
   ],
   "source": [
    "fig, axs = plt.subplots(figsize=(5,5))\n",
    "plt.plot(history.history['loss'], label='loss')\n",
    "plt.plot(history.history['val_loss'], label='val_loss')\n",
    "plt.plot(history.history['accuracy'], label='accuracy')\n",
    "plt.plot(history.history['val_accuracy'], label='val_accuracy')\n",
    "plt.title('Training metrics')\n",
    "plt.xlabel('Iterations')\n",
    "plt.legend()"
   ]
  },
  {
   "cell_type": "code",
   "execution_count": 23,
   "metadata": {
    "tags": []
   },
   "outputs": [
    {
     "name": "stdout",
     "output_type": "stream",
     "text": [
      "[INFO] Accuracy -- Train: 1.000, Test: 0.952\n",
      "[INFO] ROC -- Train: 1.000, Test: 0.998\n"
     ]
    }
   ],
   "source": [
    "utils.print_metrics(model=model,\n",
    "                  x_train=x_train,\n",
    "                  y_train=y_train,\n",
    "                  x_test=x_test,\n",
    "                  y_test=y_test)"
   ]
  },
  {
   "cell_type": "code",
   "execution_count": 24,
   "metadata": {
    "tags": []
   },
   "outputs": [
    {
     "name": "stdout",
     "output_type": "stream",
     "text": [
      "WARNING:tensorflow:From ../STANN/utils.py:137: Sequential.predict_classes (from tensorflow.python.keras.engine.sequential) is deprecated and will be removed after 2021-01-01.\n",
      "Instructions for updating:\n",
      "Please use instead:* `np.argmax(model.predict(x), axis=-1)`,   if your model does multi-class classification   (e.g. if it uses a `softmax` last-layer activation).* `(model.predict(x) > 0.5).astype(\"int32\")`,   if your model does binary classification   (e.g. if it uses a `sigmoid` last-layer activation).\n"
     ]
    },
    {
     "data": {
      "text/html": [
       "<div>\n",
       "<style scoped>\n",
       "    .dataframe tbody tr th:only-of-type {\n",
       "        vertical-align: middle;\n",
       "    }\n",
       "\n",
       "    .dataframe tbody tr th {\n",
       "        vertical-align: top;\n",
       "    }\n",
       "\n",
       "    .dataframe thead th {\n",
       "        text-align: right;\n",
       "    }\n",
       "</style>\n",
       "<table border=\"1\" class=\"dataframe\">\n",
       "  <thead>\n",
       "    <tr style=\"text-align: right;\">\n",
       "      <th></th>\n",
       "      <th>X</th>\n",
       "      <th>Y</th>\n",
       "      <th>n_counts</th>\n",
       "      <th>log_counts</th>\n",
       "      <th>n_genes</th>\n",
       "      <th>mt_frac</th>\n",
       "      <th>FOV</th>\n",
       "      <th>STANN_predictions</th>\n",
       "    </tr>\n",
       "    <tr>\n",
       "      <th>barcode</th>\n",
       "      <th></th>\n",
       "      <th></th>\n",
       "      <th></th>\n",
       "      <th></th>\n",
       "      <th></th>\n",
       "      <th></th>\n",
       "      <th></th>\n",
       "      <th></th>\n",
       "    </tr>\n",
       "  </thead>\n",
       "  <tbody>\n",
       "    <tr>\n",
       "      <th>0a</th>\n",
       "      <td>1766.40</td>\n",
       "      <td>283.42</td>\n",
       "      <td>1148.0</td>\n",
       "      <td>7.045776</td>\n",
       "      <td>717</td>\n",
       "      <td>0.0</td>\n",
       "      <td>0</td>\n",
       "      <td>Astro</td>\n",
       "    </tr>\n",
       "    <tr>\n",
       "      <th>1a</th>\n",
       "      <td>1891.40</td>\n",
       "      <td>348.38</td>\n",
       "      <td>841.0</td>\n",
       "      <td>6.734591</td>\n",
       "      <td>555</td>\n",
       "      <td>0.0</td>\n",
       "      <td>0</td>\n",
       "      <td>Neuron_GC</td>\n",
       "    </tr>\n",
       "    <tr>\n",
       "      <th>2a</th>\n",
       "      <td>1548.70</td>\n",
       "      <td>351.11</td>\n",
       "      <td>1704.0</td>\n",
       "      <td>7.440734</td>\n",
       "      <td>1066</td>\n",
       "      <td>0.0</td>\n",
       "      <td>0</td>\n",
       "      <td>Neuron_GC</td>\n",
       "    </tr>\n",
       "    <tr>\n",
       "      <th>3a</th>\n",
       "      <td>1657.60</td>\n",
       "      <td>357.37</td>\n",
       "      <td>1439.0</td>\n",
       "      <td>7.271704</td>\n",
       "      <td>940</td>\n",
       "      <td>0.0</td>\n",
       "      <td>0</td>\n",
       "      <td>OEC</td>\n",
       "    </tr>\n",
       "    <tr>\n",
       "      <th>4a</th>\n",
       "      <td>1767.40</td>\n",
       "      <td>392.22</td>\n",
       "      <td>1657.0</td>\n",
       "      <td>7.412764</td>\n",
       "      <td>1060</td>\n",
       "      <td>0.0</td>\n",
       "      <td>0</td>\n",
       "      <td>Neuron_GC</td>\n",
       "    </tr>\n",
       "    <tr>\n",
       "      <th>...</th>\n",
       "      <td>...</td>\n",
       "      <td>...</td>\n",
       "      <td>...</td>\n",
       "      <td>...</td>\n",
       "      <td>...</td>\n",
       "      <td>...</td>\n",
       "      <td>...</td>\n",
       "      <td>...</td>\n",
       "    </tr>\n",
       "    <tr>\n",
       "      <th>2045a</th>\n",
       "      <td>339.97</td>\n",
       "      <td>1532.30</td>\n",
       "      <td>853.0</td>\n",
       "      <td>6.748760</td>\n",
       "      <td>539</td>\n",
       "      <td>0.0</td>\n",
       "      <td>6</td>\n",
       "      <td>OEC</td>\n",
       "    </tr>\n",
       "    <tr>\n",
       "      <th>2046a</th>\n",
       "      <td>608.31</td>\n",
       "      <td>1544.70</td>\n",
       "      <td>735.0</td>\n",
       "      <td>6.599871</td>\n",
       "      <td>463</td>\n",
       "      <td>0.0</td>\n",
       "      <td>6</td>\n",
       "      <td>EC</td>\n",
       "    </tr>\n",
       "    <tr>\n",
       "      <th>2047a</th>\n",
       "      <td>779.11</td>\n",
       "      <td>1551.90</td>\n",
       "      <td>822.0</td>\n",
       "      <td>6.711740</td>\n",
       "      <td>543</td>\n",
       "      <td>0.0</td>\n",
       "      <td>6</td>\n",
       "      <td>OEC</td>\n",
       "    </tr>\n",
       "    <tr>\n",
       "      <th>2048a</th>\n",
       "      <td>691.00</td>\n",
       "      <td>1575.60</td>\n",
       "      <td>1053.0</td>\n",
       "      <td>6.959399</td>\n",
       "      <td>678</td>\n",
       "      <td>0.0</td>\n",
       "      <td>6</td>\n",
       "      <td>OEC</td>\n",
       "    </tr>\n",
       "    <tr>\n",
       "      <th>2049a</th>\n",
       "      <td>1295.60</td>\n",
       "      <td>1374.70</td>\n",
       "      <td>1081.0</td>\n",
       "      <td>6.985642</td>\n",
       "      <td>689</td>\n",
       "      <td>0.0</td>\n",
       "      <td>6</td>\n",
       "      <td>OEC</td>\n",
       "    </tr>\n",
       "  </tbody>\n",
       "</table>\n",
       "<p>2050 rows × 8 columns</p>\n",
       "</div>"
      ],
      "text/plain": [
       "               X        Y  n_counts  log_counts  n_genes  mt_frac  FOV  \\\n",
       "barcode                                                                  \n",
       "0a       1766.40   283.42    1148.0    7.045776      717      0.0    0   \n",
       "1a       1891.40   348.38     841.0    6.734591      555      0.0    0   \n",
       "2a       1548.70   351.11    1704.0    7.440734     1066      0.0    0   \n",
       "3a       1657.60   357.37    1439.0    7.271704      940      0.0    0   \n",
       "4a       1767.40   392.22    1657.0    7.412764     1060      0.0    0   \n",
       "...          ...      ...       ...         ...      ...      ...  ...   \n",
       "2045a     339.97  1532.30     853.0    6.748760      539      0.0    6   \n",
       "2046a     608.31  1544.70     735.0    6.599871      463      0.0    6   \n",
       "2047a     779.11  1551.90     822.0    6.711740      543      0.0    6   \n",
       "2048a     691.00  1575.60    1053.0    6.959399      678      0.0    6   \n",
       "2049a    1295.60  1374.70    1081.0    6.985642      689      0.0    6   \n",
       "\n",
       "        STANN_predictions  \n",
       "barcode                    \n",
       "0a                  Astro  \n",
       "1a              Neuron_GC  \n",
       "2a              Neuron_GC  \n",
       "3a                    OEC  \n",
       "4a              Neuron_GC  \n",
       "...                   ...  \n",
       "2045a                 OEC  \n",
       "2046a                  EC  \n",
       "2047a                 OEC  \n",
       "2048a                 OEC  \n",
       "2049a                 OEC  \n",
       "\n",
       "[2050 rows x 8 columns]"
      ]
     },
     "execution_count": 24,
     "metadata": {},
     "output_type": "execute_result"
    }
   ],
   "source": [
    "predictions = utils.make_predictions(model=model,\n",
    "                     X_predict=X_predict_scaled,\n",
    "                     encoder=encoder,\n",
    "                     adata_predict=adata_predict,\n",
    "                     probabilities=False,\n",
    "                     save=False\n",
    "                    )\n",
    "predictions"
   ]
  },
  {
   "cell_type": "markdown",
   "metadata": {},
   "source": [
    "## Calculate discrepancy"
   ]
  },
  {
   "cell_type": "code",
   "execution_count": 35,
   "metadata": {},
   "outputs": [
    {
     "data": {
      "text/html": [
       "<div>\n",
       "<style scoped>\n",
       "    .dataframe tbody tr th:only-of-type {\n",
       "        vertical-align: middle;\n",
       "    }\n",
       "\n",
       "    .dataframe tbody tr th {\n",
       "        vertical-align: top;\n",
       "    }\n",
       "\n",
       "    .dataframe thead th {\n",
       "        text-align: right;\n",
       "    }\n",
       "</style>\n",
       "<table border=\"1\" class=\"dataframe\">\n",
       "  <thead>\n",
       "    <tr style=\"text-align: right;\">\n",
       "      <th></th>\n",
       "      <th>cell_type</th>\n",
       "      <th>X</th>\n",
       "      <th>Y</th>\n",
       "      <th>n_counts</th>\n",
       "      <th>log_counts</th>\n",
       "      <th>n_genes</th>\n",
       "      <th>mt_frac</th>\n",
       "      <th>leiden</th>\n",
       "      <th>cell_type_markers</th>\n",
       "      <th>prediction</th>\n",
       "      <th>FOV</th>\n",
       "    </tr>\n",
       "    <tr>\n",
       "      <th>barcode</th>\n",
       "      <th></th>\n",
       "      <th></th>\n",
       "      <th></th>\n",
       "      <th></th>\n",
       "      <th></th>\n",
       "      <th></th>\n",
       "      <th></th>\n",
       "      <th></th>\n",
       "      <th></th>\n",
       "      <th></th>\n",
       "      <th></th>\n",
       "    </tr>\n",
       "  </thead>\n",
       "  <tbody>\n",
       "    <tr>\n",
       "      <th>0a</th>\n",
       "      <td>cell_10</td>\n",
       "      <td>1766.4</td>\n",
       "      <td>283.42</td>\n",
       "      <td>1148.0</td>\n",
       "      <td>7.045776</td>\n",
       "      <td>717</td>\n",
       "      <td>0.0</td>\n",
       "      <td>10</td>\n",
       "      <td>Astro</td>\n",
       "      <td>Astro</td>\n",
       "      <td>0</td>\n",
       "    </tr>\n",
       "    <tr>\n",
       "      <th>1a</th>\n",
       "      <td>cell_3</td>\n",
       "      <td>1891.4</td>\n",
       "      <td>348.38</td>\n",
       "      <td>841.0</td>\n",
       "      <td>6.734591</td>\n",
       "      <td>555</td>\n",
       "      <td>0.0</td>\n",
       "      <td>1</td>\n",
       "      <td>Neuron_GC1</td>\n",
       "      <td>Neuron_GC</td>\n",
       "      <td>0</td>\n",
       "    </tr>\n",
       "    <tr>\n",
       "      <th>2a</th>\n",
       "      <td>cell_1</td>\n",
       "      <td>1548.7</td>\n",
       "      <td>351.11</td>\n",
       "      <td>1704.0</td>\n",
       "      <td>7.440734</td>\n",
       "      <td>1066</td>\n",
       "      <td>0.0</td>\n",
       "      <td>0</td>\n",
       "      <td>Neuron_GC</td>\n",
       "      <td>Neuron_GC</td>\n",
       "      <td>0</td>\n",
       "    </tr>\n",
       "    <tr>\n",
       "      <th>3a</th>\n",
       "      <td>cell_15</td>\n",
       "      <td>1657.6</td>\n",
       "      <td>357.37</td>\n",
       "      <td>1439.0</td>\n",
       "      <td>7.271704</td>\n",
       "      <td>940</td>\n",
       "      <td>0.0</td>\n",
       "      <td>9</td>\n",
       "      <td>Neuron_GC2</td>\n",
       "      <td>Neuron_Transition</td>\n",
       "      <td>0</td>\n",
       "    </tr>\n",
       "    <tr>\n",
       "      <th>4a</th>\n",
       "      <td>cell_5</td>\n",
       "      <td>1767.4</td>\n",
       "      <td>392.22</td>\n",
       "      <td>1657.0</td>\n",
       "      <td>7.412764</td>\n",
       "      <td>1060</td>\n",
       "      <td>0.0</td>\n",
       "      <td>16</td>\n",
       "      <td>Neuron_Transition</td>\n",
       "      <td>Neuron_GC</td>\n",
       "      <td>0</td>\n",
       "    </tr>\n",
       "  </tbody>\n",
       "</table>\n",
       "</div>"
      ],
      "text/plain": [
       "        cell_type       X       Y  n_counts  log_counts  n_genes  mt_frac  \\\n",
       "barcode                                                                     \n",
       "0a        cell_10  1766.4  283.42    1148.0    7.045776      717      0.0   \n",
       "1a         cell_3  1891.4  348.38     841.0    6.734591      555      0.0   \n",
       "2a         cell_1  1548.7  351.11    1704.0    7.440734     1066      0.0   \n",
       "3a        cell_15  1657.6  357.37    1439.0    7.271704      940      0.0   \n",
       "4a         cell_5  1767.4  392.22    1657.0    7.412764     1060      0.0   \n",
       "\n",
       "         leiden  cell_type_markers         prediction  FOV  \n",
       "barcode                                                     \n",
       "0a           10              Astro              Astro    0  \n",
       "1a            1         Neuron_GC1          Neuron_GC    0  \n",
       "2a            0          Neuron_GC          Neuron_GC    0  \n",
       "3a            9         Neuron_GC2  Neuron_Transition    0  \n",
       "4a           16  Neuron_Transition          Neuron_GC    0  "
      ]
     },
     "execution_count": 35,
     "metadata": {},
     "output_type": "execute_result"
    }
   ],
   "source": [
    "old_predictions = pd.read_csv(\"../../notebooks/classifier/predictions_updated.csv\",index_col=\"barcode\")\n",
    "old_predictions.head()"
   ]
  },
  {
   "cell_type": "code",
   "execution_count": 36,
   "metadata": {},
   "outputs": [],
   "source": [
    "results = pd.DataFrame({\"old\":old_predictions.prediction,\"new\":predictions.STANN_predictions})"
   ]
  },
  {
   "cell_type": "code",
   "execution_count": 37,
   "metadata": {},
   "outputs": [],
   "source": [
    "results['diff'] = None\n",
    "\n",
    "for index, row in results.iterrows():\n",
    "    if row.old == row.new:\n",
    "        results.at[index,'diff'] = True\n",
    "    else:\n",
    "        results.at[index,'diff'] = False"
   ]
  },
  {
   "cell_type": "code",
   "execution_count": 38,
   "metadata": {},
   "outputs": [
    {
     "data": {
      "text/plain": [
       "True     1340\n",
       "False     710\n",
       "Name: diff, dtype: int64"
      ]
     },
     "execution_count": 38,
     "metadata": {},
     "output_type": "execute_result"
    }
   ],
   "source": [
    "results['diff'].value_counts()"
   ]
  },
  {
   "cell_type": "code",
   "execution_count": 39,
   "metadata": {},
   "outputs": [
    {
     "data": {
      "text/html": [
       "<div>\n",
       "<style scoped>\n",
       "    .dataframe tbody tr th:only-of-type {\n",
       "        vertical-align: middle;\n",
       "    }\n",
       "\n",
       "    .dataframe tbody tr th {\n",
       "        vertical-align: top;\n",
       "    }\n",
       "\n",
       "    .dataframe thead th {\n",
       "        text-align: right;\n",
       "    }\n",
       "</style>\n",
       "<table border=\"1\" class=\"dataframe\">\n",
       "  <thead>\n",
       "    <tr style=\"text-align: right;\">\n",
       "      <th></th>\n",
       "      <th>cell_type</th>\n",
       "      <th>X</th>\n",
       "      <th>Y</th>\n",
       "      <th>n_counts</th>\n",
       "      <th>log_counts</th>\n",
       "      <th>n_genes</th>\n",
       "      <th>mt_frac</th>\n",
       "      <th>leiden</th>\n",
       "      <th>cell_type_markers</th>\n",
       "      <th>prediction</th>\n",
       "      <th>FOV</th>\n",
       "    </tr>\n",
       "    <tr>\n",
       "      <th>barcode</th>\n",
       "      <th></th>\n",
       "      <th></th>\n",
       "      <th></th>\n",
       "      <th></th>\n",
       "      <th></th>\n",
       "      <th></th>\n",
       "      <th></th>\n",
       "      <th></th>\n",
       "      <th></th>\n",
       "      <th></th>\n",
       "      <th></th>\n",
       "    </tr>\n",
       "  </thead>\n",
       "  <tbody>\n",
       "    <tr>\n",
       "      <th>0a</th>\n",
       "      <td>cell_10</td>\n",
       "      <td>1766.40</td>\n",
       "      <td>283.42</td>\n",
       "      <td>1148.0</td>\n",
       "      <td>7.045776</td>\n",
       "      <td>717</td>\n",
       "      <td>0.0</td>\n",
       "      <td>10</td>\n",
       "      <td>Astro</td>\n",
       "      <td>Astro</td>\n",
       "      <td>0</td>\n",
       "    </tr>\n",
       "    <tr>\n",
       "      <th>1a</th>\n",
       "      <td>cell_3</td>\n",
       "      <td>1891.40</td>\n",
       "      <td>348.38</td>\n",
       "      <td>841.0</td>\n",
       "      <td>6.734591</td>\n",
       "      <td>555</td>\n",
       "      <td>0.0</td>\n",
       "      <td>1</td>\n",
       "      <td>Neuron_GC1</td>\n",
       "      <td>Neuron_GC</td>\n",
       "      <td>0</td>\n",
       "    </tr>\n",
       "    <tr>\n",
       "      <th>2a</th>\n",
       "      <td>cell_1</td>\n",
       "      <td>1548.70</td>\n",
       "      <td>351.11</td>\n",
       "      <td>1704.0</td>\n",
       "      <td>7.440734</td>\n",
       "      <td>1066</td>\n",
       "      <td>0.0</td>\n",
       "      <td>0</td>\n",
       "      <td>Neuron_GC</td>\n",
       "      <td>Neuron_GC</td>\n",
       "      <td>0</td>\n",
       "    </tr>\n",
       "    <tr>\n",
       "      <th>3a</th>\n",
       "      <td>cell_15</td>\n",
       "      <td>1657.60</td>\n",
       "      <td>357.37</td>\n",
       "      <td>1439.0</td>\n",
       "      <td>7.271704</td>\n",
       "      <td>940</td>\n",
       "      <td>0.0</td>\n",
       "      <td>9</td>\n",
       "      <td>Neuron_GC2</td>\n",
       "      <td>Neuron_Transition</td>\n",
       "      <td>0</td>\n",
       "    </tr>\n",
       "    <tr>\n",
       "      <th>4a</th>\n",
       "      <td>cell_5</td>\n",
       "      <td>1767.40</td>\n",
       "      <td>392.22</td>\n",
       "      <td>1657.0</td>\n",
       "      <td>7.412764</td>\n",
       "      <td>1060</td>\n",
       "      <td>0.0</td>\n",
       "      <td>16</td>\n",
       "      <td>Neuron_Transition</td>\n",
       "      <td>Neuron_GC</td>\n",
       "      <td>0</td>\n",
       "    </tr>\n",
       "    <tr>\n",
       "      <th>...</th>\n",
       "      <td>...</td>\n",
       "      <td>...</td>\n",
       "      <td>...</td>\n",
       "      <td>...</td>\n",
       "      <td>...</td>\n",
       "      <td>...</td>\n",
       "      <td>...</td>\n",
       "      <td>...</td>\n",
       "      <td>...</td>\n",
       "      <td>...</td>\n",
       "      <td>...</td>\n",
       "    </tr>\n",
       "    <tr>\n",
       "      <th>2045a</th>\n",
       "      <td>cell_9</td>\n",
       "      <td>339.97</td>\n",
       "      <td>1532.30</td>\n",
       "      <td>853.0</td>\n",
       "      <td>6.748760</td>\n",
       "      <td>539</td>\n",
       "      <td>0.0</td>\n",
       "      <td>11</td>\n",
       "      <td>OEC1</td>\n",
       "      <td>OEC</td>\n",
       "      <td>6</td>\n",
       "    </tr>\n",
       "    <tr>\n",
       "      <th>2046a</th>\n",
       "      <td>cell_9</td>\n",
       "      <td>608.31</td>\n",
       "      <td>1544.70</td>\n",
       "      <td>735.0</td>\n",
       "      <td>6.599871</td>\n",
       "      <td>463</td>\n",
       "      <td>0.0</td>\n",
       "      <td>11</td>\n",
       "      <td>OEC1</td>\n",
       "      <td>OEC</td>\n",
       "      <td>6</td>\n",
       "    </tr>\n",
       "    <tr>\n",
       "      <th>2047a</th>\n",
       "      <td>cell_9</td>\n",
       "      <td>779.11</td>\n",
       "      <td>1551.90</td>\n",
       "      <td>822.0</td>\n",
       "      <td>6.711740</td>\n",
       "      <td>543</td>\n",
       "      <td>0.0</td>\n",
       "      <td>11</td>\n",
       "      <td>OEC1</td>\n",
       "      <td>OEC</td>\n",
       "      <td>6</td>\n",
       "    </tr>\n",
       "    <tr>\n",
       "      <th>2048a</th>\n",
       "      <td>cell_9</td>\n",
       "      <td>691.00</td>\n",
       "      <td>1575.60</td>\n",
       "      <td>1053.0</td>\n",
       "      <td>6.959399</td>\n",
       "      <td>678</td>\n",
       "      <td>0.0</td>\n",
       "      <td>11</td>\n",
       "      <td>OEC1</td>\n",
       "      <td>OEC</td>\n",
       "      <td>6</td>\n",
       "    </tr>\n",
       "    <tr>\n",
       "      <th>2049a</th>\n",
       "      <td>cell_9</td>\n",
       "      <td>1295.60</td>\n",
       "      <td>1374.70</td>\n",
       "      <td>1081.0</td>\n",
       "      <td>6.985642</td>\n",
       "      <td>689</td>\n",
       "      <td>0.0</td>\n",
       "      <td>11</td>\n",
       "      <td>OEC1</td>\n",
       "      <td>OEC</td>\n",
       "      <td>6</td>\n",
       "    </tr>\n",
       "  </tbody>\n",
       "</table>\n",
       "<p>2050 rows × 11 columns</p>\n",
       "</div>"
      ],
      "text/plain": [
       "        cell_type        X        Y  n_counts  log_counts  n_genes  mt_frac  \\\n",
       "barcode                                                                       \n",
       "0a        cell_10  1766.40   283.42    1148.0    7.045776      717      0.0   \n",
       "1a         cell_3  1891.40   348.38     841.0    6.734591      555      0.0   \n",
       "2a         cell_1  1548.70   351.11    1704.0    7.440734     1066      0.0   \n",
       "3a        cell_15  1657.60   357.37    1439.0    7.271704      940      0.0   \n",
       "4a         cell_5  1767.40   392.22    1657.0    7.412764     1060      0.0   \n",
       "...           ...      ...      ...       ...         ...      ...      ...   \n",
       "2045a      cell_9   339.97  1532.30     853.0    6.748760      539      0.0   \n",
       "2046a      cell_9   608.31  1544.70     735.0    6.599871      463      0.0   \n",
       "2047a      cell_9   779.11  1551.90     822.0    6.711740      543      0.0   \n",
       "2048a      cell_9   691.00  1575.60    1053.0    6.959399      678      0.0   \n",
       "2049a      cell_9  1295.60  1374.70    1081.0    6.985642      689      0.0   \n",
       "\n",
       "         leiden  cell_type_markers         prediction  FOV  \n",
       "barcode                                                     \n",
       "0a           10              Astro              Astro    0  \n",
       "1a            1         Neuron_GC1          Neuron_GC    0  \n",
       "2a            0          Neuron_GC          Neuron_GC    0  \n",
       "3a            9         Neuron_GC2  Neuron_Transition    0  \n",
       "4a           16  Neuron_Transition          Neuron_GC    0  \n",
       "...         ...                ...                ...  ...  \n",
       "2045a        11               OEC1                OEC    6  \n",
       "2046a        11               OEC1                OEC    6  \n",
       "2047a        11               OEC1                OEC    6  \n",
       "2048a        11               OEC1                OEC    6  \n",
       "2049a        11               OEC1                OEC    6  \n",
       "\n",
       "[2050 rows x 11 columns]"
      ]
     },
     "execution_count": 39,
     "metadata": {},
     "output_type": "execute_result"
    }
   ],
   "source": [
    "old_predictions"
   ]
  },
  {
   "cell_type": "code",
   "execution_count": null,
   "metadata": {},
   "outputs": [],
   "source": []
  }
 ],
 "metadata": {
  "kernelspec": {
   "display_name": "Python 3",
   "language": "python",
   "name": "python3"
  },
  "language_info": {
   "codemirror_mode": {
    "name": "ipython",
    "version": 3
   },
   "file_extension": ".py",
   "mimetype": "text/x-python",
   "name": "python",
   "nbconvert_exporter": "python",
   "pygments_lexer": "ipython3",
   "version": "3.7.7"
  }
 },
 "nbformat": 4,
 "nbformat_minor": 2
}
